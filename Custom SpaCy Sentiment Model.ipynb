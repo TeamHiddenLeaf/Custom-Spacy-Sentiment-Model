{
 "cells": [
  {
   "cell_type": "markdown",
   "metadata": {},
   "source": [
    "### Custom SpaCy Sentiment Model"
   ]
  },
  {
   "cell_type": "code",
   "execution_count": 24,
   "metadata": {},
   "outputs": [],
   "source": [
    "import numpy as np # linear algebra\n",
    "import pandas as pd # data processing, CSV file I/O (e.g. pd.read_csv)\n",
    "\n",
    "import os\n",
    "for dirname, _, filenames in os.walk('input'):\n",
    "    for filename in filenames:\n",
    "        print(os.path.join(dirname, filename))"
   ]
  },
  {
   "cell_type": "markdown",
   "metadata": {},
   "source": [
    "### 1. Reading Data"
   ]
  },
  {
   "cell_type": "code",
   "execution_count": 25,
   "metadata": {},
   "outputs": [],
   "source": [
    "import re\n",
    "from nltk.corpus import stopwords\n",
    "import matplotlib.pyplot as plt\n",
    "from tqdm import tqdm\n",
    "import os\n",
    "import nltk\n",
    "import spacy\n",
    "import random\n",
    "from spacy.util import compounding\n",
    "from spacy.util import minibatch\n",
    "import warnings\n",
    "warnings.filterwarnings(\"ignore\")"
   ]
  },
  {
   "cell_type": "code",
   "execution_count": 37,
   "metadata": {},
   "outputs": [],
   "source": [
    "BASE_PATH = 'C:/Users/naras/OneDrive/Documents/'\n",
    "\n",
    "train_df = pd.read_csv(BASE_PATH + 'train_data.csv')\n",
    "test_df = pd.read_csv( BASE_PATH + 'val_data.csv')"
   ]
  },
  {
   "cell_type": "code",
   "execution_count": 39,
   "metadata": {},
   "outputs": [
    {
     "data": {
      "text/html": [
       "<div>\n",
       "<style scoped>\n",
       "    .dataframe tbody tr th:only-of-type {\n",
       "        vertical-align: middle;\n",
       "    }\n",
       "\n",
       "    .dataframe tbody tr th {\n",
       "        vertical-align: top;\n",
       "    }\n",
       "\n",
       "    .dataframe thead th {\n",
       "        text-align: right;\n",
       "    }\n",
       "</style>\n",
       "<table border=\"1\" class=\"dataframe\">\n",
       "  <thead>\n",
       "    <tr style=\"text-align: right;\">\n",
       "      <th></th>\n",
       "      <th>textID</th>\n",
       "      <th>text</th>\n",
       "      <th>selected_text</th>\n",
       "      <th>sentiment</th>\n",
       "    </tr>\n",
       "  </thead>\n",
       "  <tbody>\n",
       "    <tr>\n",
       "      <th>0</th>\n",
       "      <td>cb774db0d1</td>\n",
       "      <td>I`d have responded, if I were going</td>\n",
       "      <td>I`d have responded, if I were going</td>\n",
       "      <td>neutral</td>\n",
       "    </tr>\n",
       "    <tr>\n",
       "      <th>1</th>\n",
       "      <td>549e992a42</td>\n",
       "      <td>Sooo SAD I will miss you here in San Diego!!!</td>\n",
       "      <td>Sooo SAD</td>\n",
       "      <td>negative</td>\n",
       "    </tr>\n",
       "    <tr>\n",
       "      <th>2</th>\n",
       "      <td>088c60f138</td>\n",
       "      <td>my boss is bullying me...</td>\n",
       "      <td>bullying me</td>\n",
       "      <td>negative</td>\n",
       "    </tr>\n",
       "    <tr>\n",
       "      <th>3</th>\n",
       "      <td>9642c003ef</td>\n",
       "      <td>what interview! leave me alone</td>\n",
       "      <td>leave me alone</td>\n",
       "      <td>negative</td>\n",
       "    </tr>\n",
       "    <tr>\n",
       "      <th>4</th>\n",
       "      <td>358bd9e861</td>\n",
       "      <td>Sons of ****, why couldn`t they put them on t...</td>\n",
       "      <td>Sons of ****,</td>\n",
       "      <td>negative</td>\n",
       "    </tr>\n",
       "  </tbody>\n",
       "</table>\n",
       "</div>"
      ],
      "text/plain": [
       "       textID                                               text  \\\n",
       "0  cb774db0d1                I`d have responded, if I were going   \n",
       "1  549e992a42      Sooo SAD I will miss you here in San Diego!!!   \n",
       "2  088c60f138                          my boss is bullying me...   \n",
       "3  9642c003ef                     what interview! leave me alone   \n",
       "4  358bd9e861   Sons of ****, why couldn`t they put them on t...   \n",
       "\n",
       "                         selected_text sentiment  \n",
       "0  I`d have responded, if I were going   neutral  \n",
       "1                             Sooo SAD  negative  \n",
       "2                          bullying me  negative  \n",
       "3                       leave me alone  negative  \n",
       "4                        Sons of ****,  negative  "
      ]
     },
     "execution_count": 39,
     "metadata": {},
     "output_type": "execute_result"
    }
   ],
   "source": [
    "train_df.head()"
   ]
  },
  {
   "cell_type": "code",
   "execution_count": 40,
   "metadata": {},
   "outputs": [
    {
     "data": {
      "text/plain": [
       "neutral     11118\n",
       "positive     8582\n",
       "negative     7781\n",
       "Name: sentiment, dtype: int64"
      ]
     },
     "execution_count": 40,
     "metadata": {},
     "output_type": "execute_result"
    }
   ],
   "source": [
    "train_df.sentiment.value_counts().head(10)"
   ]
  },
  {
   "cell_type": "code",
   "execution_count": 29,
   "metadata": {},
   "outputs": [],
   "source": [
    "train_df = train_df.dropna()"
   ]
  },
  {
   "cell_type": "markdown",
   "metadata": {},
   "source": [
    "### 2. Training Model"
   ]
  },
  {
   "cell_type": "code",
   "execution_count": 43,
   "metadata": {},
   "outputs": [],
   "source": [
    "def save_model(output_dir, nlp, new_model_name):\n",
    "    output_dir = f'C:/Users/naras/OneDrive/Documents/{output_dir}'\n",
    "    if output_dir is not None:        \n",
    "        if not os.path.exists(output_dir):\n",
    "            os.makedirs(output_dir)\n",
    "        nlp.meta[\"name\"] = new_model_name\n",
    "        nlp.to_disk(output_dir)\n",
    "        print(\"Saved model to\", output_dir)"
   ]
  },
  {
   "cell_type": "code",
   "execution_count": 31,
   "metadata": {},
   "outputs": [],
   "source": [
    "# pass model = nlp if you want to train on top of existing model \n",
    "\n",
    "def train(train_data, output_dir, n_iter=20, model=None):\n",
    "    \"\"\"Load the model, set up the pipeline and train the entity recognizer.\"\"\"\n",
    "    \"\"\n",
    "    if model is not None:\n",
    "        nlp = spacy.load(output_dir)  # load existing spaCy model\n",
    "        print(\"Loaded model '%s'\" % model)\n",
    "    else:\n",
    "        nlp = spacy.blank(\"en\")  # create blank Language class\n",
    "        print(\"Created blank 'en' model\")\n",
    "    \n",
    "    # create the built-in pipeline components and add them to the pipeline\n",
    "    # nlp.create_pipe works for built-ins that are registered with spaCy\n",
    "    if \"ner\" not in nlp.pipe_names:\n",
    "        ner = nlp.create_pipe(\"ner\")\n",
    "        nlp.add_pipe(ner, last=True)\n",
    "    # otherwise, get it so we can add labels\n",
    "    else:\n",
    "        ner = nlp.get_pipe(\"ner\")\n",
    "    \n",
    "    # add labels\n",
    "    for _, annotations in train_data:\n",
    "        for ent in annotations.get(\"entities\"):\n",
    "            ner.add_label(ent[2])\n",
    "\n",
    "    # get names of other pipes to disable them during training\n",
    "    other_pipes = [pipe for pipe in nlp.pipe_names if pipe != \"ner\"]\n",
    "    with nlp.disable_pipes(*other_pipes):  # only train NER\n",
    "        # sizes = compounding(1.0, 4.0, 1.001)\n",
    "        # batch up the examples using spaCy's minibatch\n",
    "        if model is None:\n",
    "            nlp.begin_training()\n",
    "        else:\n",
    "            nlp.resume_training()\n",
    "\n",
    "        for itn in tqdm(range(n_iter)):\n",
    "            random.shuffle(train_data)\n",
    "            batches = minibatch(train_data, size=compounding(4.0, 500.0, 1.001))    \n",
    "            losses = {}\n",
    "            for batch in batches:\n",
    "                texts, annotations = zip(*batch)\n",
    "                nlp.update(\n",
    "                    texts,  # batch of texts\n",
    "                    annotations,  # batch of annotations\n",
    "                    drop=0.5,   # dropout - make it harder to memorise data\n",
    "                    losses=losses, \n",
    "                )\n",
    "            \n",
    "            print(\"Losses\", losses)\n",
    "    save_model(output_dir, nlp, 'st_ner')"
   ]
  },
  {
   "cell_type": "code",
   "execution_count": 32,
   "metadata": {},
   "outputs": [],
   "source": [
    "def get_model_out_path(sentiment):\n",
    "    model_out_path = None\n",
    "    if sentiment == 'Positive':\n",
    "        model_out_path = 'model/model_pos'\n",
    "    elif sentiment == 'Negative':\n",
    "        model_out_path = 'model/model_neg'\n",
    "    else:\n",
    "        model_out_path = 'model/model_neu'\n",
    "    return model_out_path\n",
    "    "
   ]
  },
  {
   "cell_type": "code",
   "execution_count": 33,
   "metadata": {},
   "outputs": [],
   "source": [
    "def get_training_data(sentiment):\n",
    "    train_data = []\n",
    "    for index, row in train_df.iterrows():\n",
    "        if row.sentiment == sentiment:\n",
    "            selected_text = row.selected_text\n",
    "            text = row.text\n",
    "            start = text.find(selected_text)\n",
    "            end = start + len(selected_text)\n",
    "            train_data.append((text, {\"entities\": [[start, end, 'selected_text']]}))\n",
    "    return train_data"
   ]
  },
  {
   "cell_type": "markdown",
   "metadata": {},
   "source": [
    "### 3. Training for Positive Sentiment"
   ]
  },
  {
   "cell_type": "code",
   "execution_count": 46,
   "metadata": {},
   "outputs": [],
   "source": [
    "sentiment = 'Positive'\n",
    "\n",
    "train_data = get_training_data(sentiment)\n",
    "model_path = get_model_out_path(sentiment)\n",
    "train(train_data, model_path, n_iter=30, model=None)"
   ]
  },
  {
   "cell_type": "markdown",
   "metadata": {},
   "source": [
    "### 4. Training for Negative Sentiment"
   ]
  },
  {
   "cell_type": "code",
   "execution_count": 27,
   "metadata": {},
   "outputs": [
    {
     "name": "stdout",
     "output_type": "stream",
     "text": [
      "Created blank 'en' model\n"
     ]
    },
    {
     "name": "stderr",
     "output_type": "stream",
     "text": [
      "\n",
      "  0%|          | 0/30 [00:00<?, ?it/s]\u001b[A\n",
      "  3%|▎         | 1/30 [01:03<30:45, 63.65s/it]\u001b[A"
     ]
    },
    {
     "name": "stdout",
     "output_type": "stream",
     "text": [
      "Losses {'ner': 32448.104163273005}\n"
     ]
    },
    {
     "name": "stderr",
     "output_type": "stream",
     "text": [
      "\n",
      "  7%|▋         | 2/30 [02:05<29:24, 63.03s/it]\u001b[A"
     ]
    },
    {
     "name": "stdout",
     "output_type": "stream",
     "text": [
      "Losses {'ner': 28607.9315576206}\n"
     ]
    },
    {
     "name": "stderr",
     "output_type": "stream",
     "text": [
      "\n",
      " 10%|█         | 3/30 [03:11<28:46, 63.93s/it]\u001b[A"
     ]
    },
    {
     "name": "stdout",
     "output_type": "stream",
     "text": [
      "Losses {'ner': 27474.385467059656}\n"
     ]
    },
    {
     "name": "stderr",
     "output_type": "stream",
     "text": [
      "\n",
      " 13%|█▎        | 4/30 [04:21<28:32, 65.85s/it]\u001b[A"
     ]
    },
    {
     "name": "stdout",
     "output_type": "stream",
     "text": [
      "Losses {'ner': 26524.334456737342}\n"
     ]
    },
    {
     "name": "stderr",
     "output_type": "stream",
     "text": [
      "\n",
      " 17%|█▋        | 5/30 [05:36<28:33, 68.53s/it]\u001b[A"
     ]
    },
    {
     "name": "stdout",
     "output_type": "stream",
     "text": [
      "Losses {'ner': 25111.258534084744}\n"
     ]
    },
    {
     "name": "stderr",
     "output_type": "stream",
     "text": [
      "\n",
      " 20%|██        | 6/30 [06:52<28:18, 70.75s/it]\u001b[A"
     ]
    },
    {
     "name": "stdout",
     "output_type": "stream",
     "text": [
      "Losses {'ner': 24586.790584234863}\n"
     ]
    },
    {
     "name": "stderr",
     "output_type": "stream",
     "text": [
      "\n",
      " 23%|██▎       | 7/30 [08:03<27:07, 70.77s/it]\u001b[A"
     ]
    },
    {
     "name": "stdout",
     "output_type": "stream",
     "text": [
      "Losses {'ner': 23387.781632473416}\n"
     ]
    },
    {
     "name": "stderr",
     "output_type": "stream",
     "text": [
      "\n",
      " 27%|██▋       | 8/30 [09:17<26:22, 71.93s/it]\u001b[A"
     ]
    },
    {
     "name": "stdout",
     "output_type": "stream",
     "text": [
      "Losses {'ner': 22646.530660375927}\n"
     ]
    },
    {
     "name": "stderr",
     "output_type": "stream",
     "text": [
      "\n",
      " 30%|███       | 9/30 [10:40<26:20, 75.28s/it]\u001b[A"
     ]
    },
    {
     "name": "stdout",
     "output_type": "stream",
     "text": [
      "Losses {'ner': 22305.08168228498}\n"
     ]
    },
    {
     "name": "stderr",
     "output_type": "stream",
     "text": [
      "\n",
      " 33%|███▎      | 10/30 [12:04<25:56, 77.81s/it]\u001b[A"
     ]
    },
    {
     "name": "stdout",
     "output_type": "stream",
     "text": [
      "Losses {'ner': 21823.755979928992}\n"
     ]
    },
    {
     "name": "stderr",
     "output_type": "stream",
     "text": [
      "\n",
      " 37%|███▋      | 11/30 [13:27<25:08, 79.40s/it]\u001b[A"
     ]
    },
    {
     "name": "stdout",
     "output_type": "stream",
     "text": [
      "Losses {'ner': 21927.88091885123}\n"
     ]
    },
    {
     "name": "stderr",
     "output_type": "stream",
     "text": [
      "\n",
      " 40%|████      | 12/30 [14:51<24:12, 80.67s/it]\u001b[A"
     ]
    },
    {
     "name": "stdout",
     "output_type": "stream",
     "text": [
      "Losses {'ner': 21536.340820972422}\n"
     ]
    },
    {
     "name": "stderr",
     "output_type": "stream",
     "text": [
      "\n",
      " 43%|████▎     | 13/30 [16:14<23:05, 81.48s/it]\u001b[A"
     ]
    },
    {
     "name": "stdout",
     "output_type": "stream",
     "text": [
      "Losses {'ner': 20526.807224312095}\n"
     ]
    },
    {
     "name": "stderr",
     "output_type": "stream",
     "text": [
      "\n",
      " 47%|████▋     | 14/30 [17:37<21:50, 81.93s/it]\u001b[A"
     ]
    },
    {
     "name": "stdout",
     "output_type": "stream",
     "text": [
      "Losses {'ner': 20443.79155534393}\n"
     ]
    },
    {
     "name": "stderr",
     "output_type": "stream",
     "text": [
      "\n",
      " 50%|█████     | 15/30 [19:05<20:56, 83.77s/it]\u001b[A"
     ]
    },
    {
     "name": "stdout",
     "output_type": "stream",
     "text": [
      "Losses {'ner': 20248.692721637206}\n"
     ]
    },
    {
     "name": "stderr",
     "output_type": "stream",
     "text": [
      "\n",
      " 53%|█████▎    | 16/30 [20:34<19:54, 85.33s/it]\u001b[A"
     ]
    },
    {
     "name": "stdout",
     "output_type": "stream",
     "text": [
      "Losses {'ner': 19645.345982838495}\n"
     ]
    },
    {
     "name": "stderr",
     "output_type": "stream",
     "text": [
      "\n",
      " 57%|█████▋    | 17/30 [22:04<18:45, 86.60s/it]\u001b[A"
     ]
    },
    {
     "name": "stdout",
     "output_type": "stream",
     "text": [
      "Losses {'ner': 19539.19847100303}\n"
     ]
    },
    {
     "name": "stderr",
     "output_type": "stream",
     "text": [
      "\n",
      " 60%|██████    | 18/30 [23:32<17:26, 87.17s/it]\u001b[A"
     ]
    },
    {
     "name": "stdout",
     "output_type": "stream",
     "text": [
      "Losses {'ner': 19249.05934585487}\n"
     ]
    },
    {
     "name": "stderr",
     "output_type": "stream",
     "text": [
      "\n",
      " 63%|██████▎   | 19/30 [25:01<16:03, 87.58s/it]\u001b[A"
     ]
    },
    {
     "name": "stdout",
     "output_type": "stream",
     "text": [
      "Losses {'ner': 18981.656083014263}\n"
     ]
    },
    {
     "name": "stderr",
     "output_type": "stream",
     "text": [
      "\n",
      " 67%|██████▋   | 20/30 [26:30<14:40, 88.06s/it]\u001b[A"
     ]
    },
    {
     "name": "stdout",
     "output_type": "stream",
     "text": [
      "Losses {'ner': 18849.23885227106}\n"
     ]
    },
    {
     "name": "stderr",
     "output_type": "stream",
     "text": [
      "\n",
      " 70%|███████   | 21/30 [27:59<13:14, 88.33s/it]\u001b[A"
     ]
    },
    {
     "name": "stdout",
     "output_type": "stream",
     "text": [
      "Losses {'ner': 18914.11495771508}\n"
     ]
    },
    {
     "name": "stderr",
     "output_type": "stream",
     "text": [
      "\n",
      " 73%|███████▎  | 22/30 [29:22<11:35, 86.88s/it]\u001b[A"
     ]
    },
    {
     "name": "stdout",
     "output_type": "stream",
     "text": [
      "Losses {'ner': 18415.536159851585}\n"
     ]
    },
    {
     "name": "stderr",
     "output_type": "stream",
     "text": [
      "\n",
      " 77%|███████▋  | 23/30 [30:46<10:02, 86.04s/it]\u001b[A"
     ]
    },
    {
     "name": "stdout",
     "output_type": "stream",
     "text": [
      "Losses {'ner': 18237.536580319847}\n"
     ]
    },
    {
     "name": "stderr",
     "output_type": "stream",
     "text": [
      "\n",
      " 80%|████████  | 24/30 [32:11<08:33, 85.50s/it]\u001b[A"
     ]
    },
    {
     "name": "stdout",
     "output_type": "stream",
     "text": [
      "Losses {'ner': 18216.70284592732}\n"
     ]
    },
    {
     "name": "stderr",
     "output_type": "stream",
     "text": [
      "\n",
      " 83%|████████▎ | 25/30 [33:36<07:06, 85.36s/it]\u001b[A"
     ]
    },
    {
     "name": "stdout",
     "output_type": "stream",
     "text": [
      "Losses {'ner': 17520.463836810886}\n"
     ]
    },
    {
     "name": "stderr",
     "output_type": "stream",
     "text": [
      "\n",
      " 87%|████████▋ | 26/30 [34:59<05:38, 84.72s/it]\u001b[A"
     ]
    },
    {
     "name": "stdout",
     "output_type": "stream",
     "text": [
      "Losses {'ner': 17384.685942739416}\n"
     ]
    },
    {
     "name": "stderr",
     "output_type": "stream",
     "text": [
      "\n",
      " 90%|█████████ | 27/30 [36:27<04:17, 85.84s/it]\u001b[A"
     ]
    },
    {
     "name": "stdout",
     "output_type": "stream",
     "text": [
      "Losses {'ner': 17937.176857673243}\n"
     ]
    },
    {
     "name": "stderr",
     "output_type": "stream",
     "text": [
      "\n",
      " 93%|█████████▎| 28/30 [37:52<02:50, 85.35s/it]\u001b[A"
     ]
    },
    {
     "name": "stdout",
     "output_type": "stream",
     "text": [
      "Losses {'ner': 17761.682398309917}\n"
     ]
    },
    {
     "name": "stderr",
     "output_type": "stream",
     "text": [
      "\n",
      " 97%|█████████▋| 29/30 [39:15<01:24, 84.72s/it]\u001b[A"
     ]
    },
    {
     "name": "stdout",
     "output_type": "stream",
     "text": [
      "Losses {'ner': 17306.96567333045}\n"
     ]
    },
    {
     "name": "stderr",
     "output_type": "stream",
     "text": [
      "\n",
      "100%|██████████| 30/30 [40:41<00:00, 81.38s/it]\u001b[A"
     ]
    },
    {
     "name": "stdout",
     "output_type": "stream",
     "text": [
      "Losses {'ner': 17339.981604679495}\n",
      "Saved model to C:/Users/naras/OneDrive/Documents/models/model_neg\n"
     ]
    },
    {
     "name": "stderr",
     "output_type": "stream",
     "text": [
      "\n"
     ]
    }
   ],
   "source": [
    "sentiment = 'negative'\n",
    "\n",
    "train_data = get_training_data(sentiment)\n",
    "model_path = get_model_out_path(sentiment)\n",
    "train(train_data, model_path, n_iter=30, model=None)"
   ]
  },
  {
   "cell_type": "markdown",
   "metadata": {},
   "source": [
    "### 5. Training for Neutral Sentiment"
   ]
  },
  {
   "cell_type": "code",
   "execution_count": 29,
   "metadata": {},
   "outputs": [
    {
     "name": "stderr",
     "output_type": "stream",
     "text": [
      "\n",
      "\n",
      "  0%|          | 0/30 [00:00<?, ?it/s]\u001b[A\u001b[A"
     ]
    },
    {
     "name": "stdout",
     "output_type": "stream",
     "text": [
      "Created blank 'en' model\n"
     ]
    },
    {
     "name": "stderr",
     "output_type": "stream",
     "text": [
      "\n",
      "\n",
      "  3%|▎         | 1/30 [01:37<46:54, 97.04s/it]\u001b[A\u001b[A"
     ]
    },
    {
     "name": "stdout",
     "output_type": "stream",
     "text": [
      "Losses {'ner': 7195.225666267608}\n"
     ]
    },
    {
     "name": "stderr",
     "output_type": "stream",
     "text": [
      "\n",
      "\n",
      "  7%|▋         | 2/30 [03:07<44:19, 94.97s/it]\u001b[A\u001b[A"
     ]
    },
    {
     "name": "stdout",
     "output_type": "stream",
     "text": [
      "Losses {'ner': 5499.689893892797}\n"
     ]
    },
    {
     "name": "stderr",
     "output_type": "stream",
     "text": [
      "\n",
      "\n",
      " 10%|█         | 3/30 [04:40<42:33, 94.58s/it]\u001b[A\u001b[A"
     ]
    },
    {
     "name": "stdout",
     "output_type": "stream",
     "text": [
      "Losses {'ner': 5253.180450727642}\n"
     ]
    },
    {
     "name": "stderr",
     "output_type": "stream",
     "text": [
      "\n",
      "\n",
      " 13%|█▎        | 4/30 [06:19<41:27, 95.66s/it]\u001b[A\u001b[A"
     ]
    },
    {
     "name": "stdout",
     "output_type": "stream",
     "text": [
      "Losses {'ner': 4840.117943400269}\n"
     ]
    },
    {
     "name": "stderr",
     "output_type": "stream",
     "text": [
      "\n",
      "\n",
      " 17%|█▋        | 5/30 [07:58<40:20, 96.82s/it]\u001b[A\u001b[A"
     ]
    },
    {
     "name": "stdout",
     "output_type": "stream",
     "text": [
      "Losses {'ner': 4771.529730584881}\n"
     ]
    },
    {
     "name": "stderr",
     "output_type": "stream",
     "text": [
      "\n",
      "\n",
      " 20%|██        | 6/30 [09:39<39:10, 97.96s/it]\u001b[A\u001b[A"
     ]
    },
    {
     "name": "stdout",
     "output_type": "stream",
     "text": [
      "Losses {'ner': 4937.671657114642}\n"
     ]
    },
    {
     "name": "stderr",
     "output_type": "stream",
     "text": [
      "\n",
      "\n",
      " 23%|██▎       | 7/30 [11:23<38:18, 99.92s/it]\u001b[A\u001b[A"
     ]
    },
    {
     "name": "stdout",
     "output_type": "stream",
     "text": [
      "Losses {'ner': 4553.898479257698}\n"
     ]
    },
    {
     "name": "stderr",
     "output_type": "stream",
     "text": [
      "\n",
      "\n",
      " 27%|██▋       | 8/30 [13:03<36:40, 100.03s/it]\u001b[A\u001b[A"
     ]
    },
    {
     "name": "stdout",
     "output_type": "stream",
     "text": [
      "Losses {'ner': 4433.269229723165}\n"
     ]
    },
    {
     "name": "stderr",
     "output_type": "stream",
     "text": [
      "\n",
      "\n",
      " 30%|███       | 9/30 [14:42<34:52, 99.65s/it] \u001b[A\u001b[A"
     ]
    },
    {
     "name": "stdout",
     "output_type": "stream",
     "text": [
      "Losses {'ner': 4175.732149091246}\n"
     ]
    },
    {
     "name": "stderr",
     "output_type": "stream",
     "text": [
      "\n",
      "\n",
      " 33%|███▎      | 10/30 [16:21<33:04, 99.25s/it]\u001b[A\u001b[A"
     ]
    },
    {
     "name": "stdout",
     "output_type": "stream",
     "text": [
      "Losses {'ner': 4319.977042627618}\n"
     ]
    },
    {
     "name": "stderr",
     "output_type": "stream",
     "text": [
      "\n",
      "\n",
      " 37%|███▋      | 11/30 [17:59<31:23, 99.14s/it]\u001b[A\u001b[A"
     ]
    },
    {
     "name": "stdout",
     "output_type": "stream",
     "text": [
      "Losses {'ner': 4262.5512088743435}\n"
     ]
    },
    {
     "name": "stderr",
     "output_type": "stream",
     "text": [
      "\n",
      "\n",
      " 40%|████      | 12/30 [19:47<30:28, 101.60s/it]\u001b[A\u001b[A"
     ]
    },
    {
     "name": "stdout",
     "output_type": "stream",
     "text": [
      "Losses {'ner': 3962.243113312233}\n"
     ]
    },
    {
     "name": "stderr",
     "output_type": "stream",
     "text": [
      "\n",
      "\n",
      " 43%|████▎     | 13/30 [21:26<28:34, 100.85s/it]\u001b[A\u001b[A"
     ]
    },
    {
     "name": "stdout",
     "output_type": "stream",
     "text": [
      "Losses {'ner': 4010.4470430220126}\n"
     ]
    },
    {
     "name": "stderr",
     "output_type": "stream",
     "text": [
      "\n",
      "\n",
      " 47%|████▋     | 14/30 [23:05<26:44, 100.30s/it]\u001b[A\u001b[A"
     ]
    },
    {
     "name": "stdout",
     "output_type": "stream",
     "text": [
      "Losses {'ner': 3953.1776786612486}\n"
     ]
    },
    {
     "name": "stderr",
     "output_type": "stream",
     "text": [
      "\n",
      "\n",
      " 50%|█████     | 15/30 [24:44<24:59, 99.97s/it] \u001b[A\u001b[A"
     ]
    },
    {
     "name": "stdout",
     "output_type": "stream",
     "text": [
      "Losses {'ner': 3880.9906393024717}\n"
     ]
    },
    {
     "name": "stderr",
     "output_type": "stream",
     "text": [
      "\n",
      "\n",
      " 53%|█████▎    | 16/30 [26:24<23:19, 99.94s/it]\u001b[A\u001b[A"
     ]
    },
    {
     "name": "stdout",
     "output_type": "stream",
     "text": [
      "Losses {'ner': 3985.996803130422}\n"
     ]
    },
    {
     "name": "stderr",
     "output_type": "stream",
     "text": [
      "\n",
      "\n",
      " 57%|█████▋    | 17/30 [28:04<21:39, 99.95s/it]\u001b[A\u001b[A"
     ]
    },
    {
     "name": "stdout",
     "output_type": "stream",
     "text": [
      "Losses {'ner': 3809.7943711952857}\n"
     ]
    },
    {
     "name": "stderr",
     "output_type": "stream",
     "text": [
      "\n",
      "\n",
      " 60%|██████    | 18/30 [29:43<19:56, 99.68s/it]\u001b[A\u001b[A"
     ]
    },
    {
     "name": "stdout",
     "output_type": "stream",
     "text": [
      "Losses {'ner': 3853.6725030516095}\n"
     ]
    },
    {
     "name": "stderr",
     "output_type": "stream",
     "text": [
      "\n",
      "\n",
      " 63%|██████▎   | 19/30 [31:22<18:15, 99.62s/it]\u001b[A\u001b[A"
     ]
    },
    {
     "name": "stdout",
     "output_type": "stream",
     "text": [
      "Losses {'ner': 3615.8065603175373}\n"
     ]
    },
    {
     "name": "stderr",
     "output_type": "stream",
     "text": [
      "\n",
      "\n",
      " 67%|██████▋   | 20/30 [33:02<16:36, 99.70s/it]\u001b[A\u001b[A"
     ]
    },
    {
     "name": "stdout",
     "output_type": "stream",
     "text": [
      "Losses {'ner': 3562.1061863886384}\n"
     ]
    },
    {
     "name": "stderr",
     "output_type": "stream",
     "text": [
      "\n",
      "\n",
      " 70%|███████   | 21/30 [34:43<15:00, 100.05s/it]\u001b[A\u001b[A"
     ]
    },
    {
     "name": "stdout",
     "output_type": "stream",
     "text": [
      "Losses {'ner': 3692.2904690680853}\n"
     ]
    },
    {
     "name": "stderr",
     "output_type": "stream",
     "text": [
      "\n",
      "\n",
      " 73%|███████▎  | 22/30 [36:23<13:19, 99.96s/it] \u001b[A\u001b[A"
     ]
    },
    {
     "name": "stdout",
     "output_type": "stream",
     "text": [
      "Losses {'ner': 3524.601827045743}\n"
     ]
    },
    {
     "name": "stderr",
     "output_type": "stream",
     "text": [
      "\n",
      "\n",
      " 77%|███████▋  | 23/30 [38:04<11:41, 100.15s/it]\u001b[A\u001b[A"
     ]
    },
    {
     "name": "stdout",
     "output_type": "stream",
     "text": [
      "Losses {'ner': 3516.887666672171}\n"
     ]
    },
    {
     "name": "stderr",
     "output_type": "stream",
     "text": [
      "\n",
      "\n",
      " 80%|████████  | 24/30 [39:43<10:00, 100.07s/it]\u001b[A\u001b[A"
     ]
    },
    {
     "name": "stdout",
     "output_type": "stream",
     "text": [
      "Losses {'ner': 3649.5509815319983}\n"
     ]
    },
    {
     "name": "stderr",
     "output_type": "stream",
     "text": [
      "\n",
      "\n",
      " 83%|████████▎ | 25/30 [41:23<08:19, 99.91s/it] \u001b[A\u001b[A"
     ]
    },
    {
     "name": "stdout",
     "output_type": "stream",
     "text": [
      "Losses {'ner': 3519.925278164429}\n"
     ]
    },
    {
     "name": "stderr",
     "output_type": "stream",
     "text": [
      "\n",
      "\n",
      " 87%|████████▋ | 26/30 [43:03<06:39, 99.95s/it]\u001b[A\u001b[A"
     ]
    },
    {
     "name": "stdout",
     "output_type": "stream",
     "text": [
      "Losses {'ner': 3447.797180514221}\n"
     ]
    },
    {
     "name": "stderr",
     "output_type": "stream",
     "text": [
      "\n",
      "\n",
      " 90%|█████████ | 27/30 [44:43<05:00, 100.02s/it]\u001b[A\u001b[A"
     ]
    },
    {
     "name": "stdout",
     "output_type": "stream",
     "text": [
      "Losses {'ner': 3389.810766968707}\n"
     ]
    },
    {
     "name": "stderr",
     "output_type": "stream",
     "text": [
      "\n",
      "\n",
      " 93%|█████████▎| 28/30 [46:23<03:19, 99.84s/it] \u001b[A\u001b[A"
     ]
    },
    {
     "name": "stdout",
     "output_type": "stream",
     "text": [
      "Losses {'ner': 3446.2343476172073}\n"
     ]
    },
    {
     "name": "stderr",
     "output_type": "stream",
     "text": [
      "\n",
      "\n",
      " 97%|█████████▋| 29/30 [48:03<01:40, 100.13s/it]\u001b[A\u001b[A"
     ]
    },
    {
     "name": "stdout",
     "output_type": "stream",
     "text": [
      "Losses {'ner': 3322.996241622846}\n"
     ]
    },
    {
     "name": "stderr",
     "output_type": "stream",
     "text": [
      "\n",
      "\n",
      "100%|██████████| 30/30 [49:44<00:00, 99.49s/it] \u001b[A\u001b[A"
     ]
    },
    {
     "name": "stdout",
     "output_type": "stream",
     "text": [
      "Losses {'ner': 3391.9902497792405}\n",
      "Saved model to C:/Users/naras/OneDrive/Documents/models/model_neu\n"
     ]
    },
    {
     "name": "stderr",
     "output_type": "stream",
     "text": [
      "\n"
     ]
    }
   ],
   "source": [
    "sentiment = 'neutral'\n",
    "\n",
    "train_data = get_training_data(sentiment)\n",
    "model_path = get_model_out_path(sentiment)\n",
    "train(train_data, model_path, n_iter=30, model=None)"
   ]
  },
  {
   "cell_type": "code",
   "execution_count": 33,
   "metadata": {},
   "outputs": [],
   "source": [
    "TRAINED_MODELS_BASE_PATH = 'C:/Users/naras/OneDrive/Documents/models/'"
   ]
  },
  {
   "cell_type": "code",
   "execution_count": 34,
   "metadata": {},
   "outputs": [],
   "source": [
    "def predict_entities(text, model):\n",
    "    doc = model(text)\n",
    "    ent_array = []\n",
    "    for ent in doc.ents:\n",
    "        start = text.find(ent.text)\n",
    "        end = start + len(ent.text)\n",
    "        new_int = [start, end, ent.label_]\n",
    "        if new_int not in ent_array:\n",
    "            ent_array.append([start, end, ent.label_])\n",
    "    selected_text = text[ent_array[0][0]: ent_array[0][1]] if len(ent_array) > 0 else text\n",
    "    return selected_text"
   ]
  },
  {
   "cell_type": "markdown",
   "metadata": {},
   "source": [
    "### 6. Jaccard score on train data"
   ]
  },
  {
   "cell_type": "code",
   "execution_count": 35,
   "metadata": {},
   "outputs": [
    {
     "name": "stdout",
     "output_type": "stream",
     "text": [
      "Loading Models  from  C:/Users/naras/OneDrive/Documents/models/\n"
     ]
    },
    {
     "name": "stderr",
     "output_type": "stream",
     "text": [
      "\n",
      "\n",
      "  0%|          | 0/27480 [00:00<?, ?it/s]\u001b[A\u001b[A\n",
      "\n",
      "  0%|          | 33/27480 [00:00<01:24, 326.70it/s]\u001b[A\u001b[A\n",
      "\n",
      "  0%|          | 66/27480 [00:00<01:23, 326.71it/s]\u001b[A\u001b[A\n",
      "\n",
      "  0%|          | 100/27480 [00:00<01:23, 329.62it/s]\u001b[A\u001b[A\n",
      "\n",
      "  0%|          | 134/27480 [00:00<01:22, 331.74it/s]\u001b[A\u001b[A\n",
      "\n",
      "  1%|          | 168/27480 [00:00<01:21, 334.14it/s]\u001b[A\u001b[A\n",
      "\n",
      "  1%|          | 204/27480 [00:00<01:20, 339.56it/s]\u001b[A\u001b[A\n",
      "\n",
      "  1%|          | 239/27480 [00:00<01:19, 341.62it/s]\u001b[A\u001b[A\n",
      "\n",
      "  1%|          | 276/27480 [00:00<01:18, 348.68it/s]\u001b[A\u001b[A\n",
      "\n",
      "  1%|          | 312/27480 [00:00<01:17, 349.95it/s]\u001b[A\u001b[A\n",
      "\n",
      "  1%|▏         | 346/27480 [00:01<01:20, 336.61it/s]\u001b[A\u001b[A\n",
      "\n",
      "  1%|▏         | 379/27480 [00:01<01:24, 320.03it/s]\u001b[A\u001b[A\n",
      "\n",
      "  1%|▏         | 411/27480 [00:01<01:24, 320.02it/s]\u001b[A\u001b[A\n",
      "\n",
      "  2%|▏         | 445/27480 [00:01<01:22, 325.73it/s]\u001b[A\u001b[A\n",
      "\n",
      "  2%|▏         | 479/27480 [00:01<01:22, 327.06it/s]\u001b[A\u001b[A\n",
      "\n",
      "  2%|▏         | 514/27480 [00:01<01:20, 333.58it/s]\u001b[A\u001b[A\n",
      "\n",
      "  2%|▏         | 548/27480 [00:01<01:20, 332.53it/s]\u001b[A\u001b[A\n",
      "\n",
      "  2%|▏         | 584/27480 [00:01<01:19, 339.39it/s]\u001b[A\u001b[A\n",
      "\n",
      "  2%|▏         | 620/27480 [00:01<01:17, 345.29it/s]\u001b[A\u001b[A\n",
      "\n",
      "  2%|▏         | 657/27480 [00:01<01:16, 350.38it/s]\u001b[A\u001b[A\n",
      "\n",
      "  3%|▎         | 694/27480 [00:02<01:15, 353.97it/s]\u001b[A\u001b[A\n",
      "\n",
      "  3%|▎         | 731/27480 [00:02<01:14, 357.58it/s]\u001b[A\u001b[A\n",
      "\n",
      "  3%|▎         | 767/27480 [00:02<01:15, 352.00it/s]\u001b[A\u001b[A\n",
      "\n",
      "  3%|▎         | 803/27480 [00:02<01:16, 348.19it/s]\u001b[A\u001b[A\n",
      "\n",
      "  3%|▎         | 839/27480 [00:02<01:15, 350.60it/s]\u001b[A\u001b[A\n",
      "\n",
      "  3%|▎         | 875/27480 [00:02<01:15, 351.37it/s]\u001b[A\u001b[A\n",
      "\n",
      "  3%|▎         | 911/27480 [00:02<01:16, 347.72it/s]\u001b[A\u001b[A\n",
      "\n",
      "  3%|▎         | 946/27480 [00:02<01:17, 344.29it/s]\u001b[A\u001b[A\n",
      "\n",
      "  4%|▎         | 981/27480 [00:02<01:17, 341.96it/s]\u001b[A\u001b[A\n",
      "\n",
      "  4%|▎         | 1016/27480 [00:02<01:17, 343.28it/s]\u001b[A\u001b[A\n",
      "\n",
      "  4%|▍         | 1051/27480 [00:03<01:19, 333.47it/s]\u001b[A\u001b[A\n",
      "\n",
      "  4%|▍         | 1085/27480 [00:03<01:24, 313.13it/s]\u001b[A\u001b[A\n",
      "\n",
      "  4%|▍         | 1117/27480 [00:03<01:28, 297.60it/s]\u001b[A\u001b[A\n",
      "\n",
      "  4%|▍         | 1148/27480 [00:03<01:28, 298.58it/s]\u001b[A\u001b[A\n",
      "\n",
      "  4%|▍         | 1182/27480 [00:03<01:25, 308.22it/s]\u001b[A\u001b[A\n",
      "\n",
      "  4%|▍         | 1218/27480 [00:03<01:21, 322.11it/s]\u001b[A\u001b[A\n",
      "\n",
      "  5%|▍         | 1254/27480 [00:03<01:19, 331.73it/s]\u001b[A\u001b[A\n",
      "\n",
      "  5%|▍         | 1291/27480 [00:03<01:16, 341.37it/s]\u001b[A\u001b[A\n",
      "\n",
      "  5%|▍         | 1326/27480 [00:03<01:17, 338.92it/s]\u001b[A\u001b[A\n",
      "\n",
      "  5%|▍         | 1361/27480 [00:04<01:19, 327.78it/s]\u001b[A\u001b[A\n",
      "\n",
      "  5%|▌         | 1395/27480 [00:04<01:27, 299.00it/s]\u001b[A\u001b[A\n",
      "\n",
      "  5%|▌         | 1426/27480 [00:04<01:31, 284.71it/s]\u001b[A\u001b[A\n",
      "\n",
      "  5%|▌         | 1459/27480 [00:04<01:28, 294.55it/s]\u001b[A\u001b[A\n",
      "\n",
      "  5%|▌         | 1492/27480 [00:04<01:25, 304.35it/s]\u001b[A\u001b[A\n",
      "\n",
      "  6%|▌         | 1528/27480 [00:04<01:21, 318.31it/s]\u001b[A\u001b[A\n",
      "\n",
      "  6%|▌         | 1563/27480 [00:04<01:19, 325.40it/s]\u001b[A\u001b[A\n",
      "\n",
      "  6%|▌         | 1598/27480 [00:04<01:18, 329.60it/s]\u001b[A\u001b[A\n",
      "\n",
      "  6%|▌         | 1632/27480 [00:04<01:21, 317.70it/s]\u001b[A\u001b[A\n",
      "\n",
      "  6%|▌         | 1665/27480 [00:05<01:23, 308.67it/s]\u001b[A\u001b[A\n",
      "\n",
      "  6%|▌         | 1697/27480 [00:05<01:23, 310.20it/s]\u001b[A\u001b[A\n",
      "\n",
      "  6%|▋         | 1734/27480 [00:05<01:18, 325.97it/s]\u001b[A\u001b[A\n",
      "\n",
      "  6%|▋         | 1770/27480 [00:05<01:17, 333.66it/s]\u001b[A\u001b[A\n",
      "\n",
      "  7%|▋         | 1806/27480 [00:05<01:15, 338.26it/s]\u001b[A\u001b[A\n",
      "\n",
      "  7%|▋         | 1841/27480 [00:05<01:20, 320.10it/s]\u001b[A\u001b[A\n",
      "\n",
      "  7%|▋         | 1874/27480 [00:05<01:22, 309.39it/s]\u001b[A\u001b[A\n",
      "\n",
      "  7%|▋         | 1909/27480 [00:05<01:19, 320.54it/s]\u001b[A\u001b[A\n",
      "\n",
      "  7%|▋         | 1947/27480 [00:05<01:16, 333.67it/s]\u001b[A\u001b[A\n",
      "\n",
      "  7%|▋         | 1983/27480 [00:06<01:15, 338.31it/s]\u001b[A\u001b[A\n",
      "\n",
      "  7%|▋         | 2020/27480 [00:06<01:13, 347.19it/s]\u001b[A\u001b[A\n",
      "\n",
      "  7%|▋         | 2059/27480 [00:06<01:11, 357.04it/s]\u001b[A\u001b[A\n",
      "\n",
      "  8%|▊         | 2095/27480 [00:06<01:15, 334.95it/s]\u001b[A\u001b[A\n",
      "\n",
      "  8%|▊         | 2129/27480 [00:06<01:18, 322.10it/s]\u001b[A\u001b[A\n",
      "\n",
      "  8%|▊         | 2166/27480 [00:06<01:15, 333.34it/s]\u001b[A\u001b[A\n",
      "\n",
      "  8%|▊         | 2201/27480 [00:06<01:14, 337.19it/s]\u001b[A\u001b[A\n",
      "\n",
      "  8%|▊         | 2236/27480 [00:06<01:17, 325.71it/s]\u001b[A\u001b[A\n",
      "\n",
      "  8%|▊         | 2269/27480 [00:06<01:18, 323.11it/s]\u001b[A\u001b[A\n",
      "\n",
      "  8%|▊         | 2302/27480 [00:06<01:18, 321.37it/s]\u001b[A\u001b[A\n",
      "\n",
      "  8%|▊         | 2335/27480 [00:07<01:17, 322.94it/s]\u001b[A\u001b[A\n",
      "\n",
      "  9%|▊         | 2368/27480 [00:07<01:18, 320.30it/s]\u001b[A\u001b[A\n",
      "\n",
      "  9%|▊         | 2401/27480 [00:07<01:18, 318.46it/s]\u001b[A\u001b[A\n",
      "\n",
      "  9%|▉         | 2433/27480 [00:07<01:20, 311.50it/s]\u001b[A\u001b[A\n",
      "\n",
      "  9%|▉         | 2467/27480 [00:07<01:18, 317.75it/s]\u001b[A\u001b[A\n",
      "\n",
      "  9%|▉         | 2504/27480 [00:07<01:15, 330.03it/s]\u001b[A\u001b[A\n",
      "\n",
      "  9%|▉         | 2540/27480 [00:07<01:13, 338.48it/s]\u001b[A\u001b[A\n",
      "\n",
      "  9%|▉         | 2576/27480 [00:07<01:12, 342.69it/s]\u001b[A\u001b[A\n",
      "\n",
      " 10%|▉         | 2611/27480 [00:07<01:13, 338.84it/s]\u001b[A\u001b[A\n",
      "\n",
      " 10%|▉         | 2645/27480 [00:08<01:14, 331.26it/s]\u001b[A\u001b[A\n",
      "\n",
      " 10%|▉         | 2680/27480 [00:08<01:14, 334.70it/s]\u001b[A\u001b[A\n",
      "\n",
      " 10%|▉         | 2717/27480 [00:08<01:11, 344.56it/s]\u001b[A\u001b[A\n",
      "\n",
      " 10%|█         | 2752/27480 [00:08<01:13, 337.21it/s]\u001b[A\u001b[A\n",
      "\n",
      " 10%|█         | 2786/27480 [00:08<01:16, 324.49it/s]\u001b[A\u001b[A\n",
      "\n",
      " 10%|█         | 2821/27480 [00:08<01:14, 329.86it/s]\u001b[A\u001b[A\n",
      "\n",
      " 10%|█         | 2857/27480 [00:08<01:13, 336.47it/s]\u001b[A\u001b[A\n",
      "\n",
      " 11%|█         | 2891/27480 [00:08<01:14, 328.71it/s]\u001b[A\u001b[A\n",
      "\n",
      " 11%|█         | 2925/27480 [00:08<01:16, 321.62it/s]\u001b[A\u001b[A\n",
      "\n",
      " 11%|█         | 2958/27480 [00:08<01:15, 324.09it/s]\u001b[A\u001b[A\n",
      "\n",
      " 11%|█         | 2992/27480 [00:09<01:14, 326.81it/s]\u001b[A\u001b[A\n",
      "\n",
      " 11%|█         | 3030/27480 [00:09<01:12, 339.34it/s]\u001b[A\u001b[A\n",
      "\n",
      " 11%|█         | 3065/27480 [00:09<01:11, 339.48it/s]\u001b[A\u001b[A\n",
      "\n",
      " 11%|█▏        | 3100/27480 [00:09<01:20, 304.16it/s]\u001b[A\u001b[A\n",
      "\n",
      " 11%|█▏        | 3132/27480 [00:09<01:24, 287.14it/s]\u001b[A\u001b[A\n",
      "\n",
      " 12%|█▏        | 3164/27480 [00:09<01:22, 293.80it/s]\u001b[A\u001b[A\n",
      "\n",
      " 12%|█▏        | 3196/27480 [00:09<01:21, 298.66it/s]\u001b[A\u001b[A\n",
      "\n",
      " 12%|█▏        | 3227/27480 [00:09<01:20, 300.25it/s]\u001b[A\u001b[A\n",
      "\n",
      " 12%|█▏        | 3260/27480 [00:09<01:18, 307.71it/s]\u001b[A\u001b[A\n",
      "\n",
      " 12%|█▏        | 3293/27480 [00:10<01:17, 314.07it/s]\u001b[A\u001b[A\n",
      "\n",
      " 12%|█▏        | 3332/27480 [00:10<01:12, 332.72it/s]\u001b[A\u001b[A\n",
      "\n",
      " 12%|█▏        | 3367/27480 [00:10<01:11, 336.80it/s]\u001b[A\u001b[A\n",
      "\n",
      " 12%|█▏        | 3404/27480 [00:10<01:10, 343.23it/s]\u001b[A\u001b[A\n",
      "\n",
      " 13%|█▎        | 3439/27480 [00:10<01:11, 337.25it/s]\u001b[A\u001b[A\n",
      "\n",
      " 13%|█▎        | 3474/27480 [00:10<01:10, 339.98it/s]\u001b[A\u001b[A\n",
      "\n",
      " 13%|█▎        | 3509/27480 [00:10<01:11, 335.04it/s]\u001b[A\u001b[A\n",
      "\n",
      " 13%|█▎        | 3545/27480 [00:10<01:10, 340.26it/s]\u001b[A\u001b[A\n",
      "\n",
      " 13%|█▎        | 3581/27480 [00:10<01:09, 342.95it/s]\u001b[A\u001b[A\n",
      "\n",
      " 13%|█▎        | 3616/27480 [00:10<01:11, 333.24it/s]\u001b[A\u001b[A\n",
      "\n",
      " 13%|█▎        | 3650/27480 [00:11<01:14, 318.30it/s]\u001b[A\u001b[A\n",
      "\n",
      " 13%|█▎        | 3683/27480 [00:11<01:16, 309.06it/s]\u001b[A\u001b[A\n",
      "\n",
      " 14%|█▎        | 3715/27480 [00:11<01:19, 300.82it/s]\u001b[A\u001b[A\n",
      "\n",
      " 14%|█▎        | 3746/27480 [00:11<01:20, 296.55it/s]\u001b[A\u001b[A\n",
      "\n",
      " 14%|█▎        | 3776/27480 [00:11<01:24, 279.29it/s]\u001b[A\u001b[A\n",
      "\n",
      " 14%|█▍        | 3805/27480 [00:11<01:28, 268.31it/s]\u001b[A\u001b[A\n",
      "\n",
      " 14%|█▍        | 3835/27480 [00:11<01:25, 275.56it/s]\u001b[A\u001b[A\n",
      "\n",
      " 14%|█▍        | 3864/27480 [00:11<01:24, 278.93it/s]\u001b[A\u001b[A\n",
      "\n",
      " 14%|█▍        | 3894/27480 [00:11<01:23, 282.52it/s]\u001b[A\u001b[A\n",
      "\n",
      " 14%|█▍        | 3923/27480 [00:12<01:23, 283.06it/s]\u001b[A\u001b[A\n",
      "\n",
      " 14%|█▍        | 3952/27480 [00:12<01:25, 275.33it/s]\u001b[A\u001b[A\n",
      "\n",
      " 14%|█▍        | 3981/27480 [00:12<01:24, 278.77it/s]\u001b[A\u001b[A\n",
      "\n",
      " 15%|█▍        | 4014/27480 [00:12<01:20, 290.10it/s]\u001b[A\u001b[A\n",
      "\n",
      " 15%|█▍        | 4048/27480 [00:12<01:17, 301.04it/s]\u001b[A\u001b[A\n",
      "\n",
      " 15%|█▍        | 4086/27480 [00:12<01:13, 319.41it/s]\u001b[A\u001b[A\n",
      "\n",
      " 15%|█▍        | 4120/27480 [00:12<01:12, 322.54it/s]\u001b[A\u001b[A\n",
      "\n",
      " 15%|█▌        | 4155/27480 [00:12<01:11, 327.53it/s]\u001b[A\u001b[A\n",
      "\n",
      " 15%|█▌        | 4191/27480 [00:12<01:09, 335.70it/s]\u001b[A\u001b[A\n",
      "\n",
      " 15%|█▌        | 4226/27480 [00:13<01:09, 336.92it/s]\u001b[A\u001b[A\n",
      "\n",
      " 16%|█▌        | 4262/27480 [00:13<01:08, 340.63it/s]\u001b[A\u001b[A\n",
      "\n",
      " 16%|█▌        | 4297/27480 [00:13<01:11, 325.17it/s]\u001b[A\u001b[A\n",
      "\n",
      " 16%|█▌        | 4330/27480 [00:13<01:13, 315.41it/s]\u001b[A\u001b[A\n",
      "\n",
      " 16%|█▌        | 4362/27480 [00:13<01:12, 316.77it/s]\u001b[A\u001b[A\n",
      "\n",
      " 16%|█▌        | 4394/27480 [00:13<01:15, 305.89it/s]\u001b[A\u001b[A\n",
      "\n",
      " 16%|█▌        | 4425/27480 [00:13<01:20, 287.45it/s]\u001b[A\u001b[A\n",
      "\n",
      " 16%|█▌        | 4455/27480 [00:13<01:20, 285.27it/s]\u001b[A\u001b[A\n",
      "\n",
      " 16%|█▋        | 4485/27480 [00:13<01:19, 288.73it/s]\u001b[A\u001b[A\n",
      "\n",
      " 16%|█▋        | 4515/27480 [00:13<01:19, 290.32it/s]\u001b[A\u001b[A\n",
      "\n",
      " 17%|█▋        | 4547/27480 [00:14<01:17, 297.80it/s]\u001b[A\u001b[A\n",
      "\n",
      " 17%|█▋        | 4581/27480 [00:14<01:14, 308.47it/s]\u001b[A\u001b[A\n",
      "\n",
      " 17%|█▋        | 4615/27480 [00:14<01:12, 315.53it/s]\u001b[A\u001b[A\n",
      "\n",
      " 17%|█▋        | 4647/27480 [00:14<01:12, 315.92it/s]\u001b[A\u001b[A\n",
      "\n",
      " 17%|█▋        | 4680/27480 [00:14<01:11, 320.01it/s]\u001b[A\u001b[A\n",
      "\n",
      " 17%|█▋        | 4713/27480 [00:14<01:13, 309.32it/s]\u001b[A\u001b[A\n",
      "\n",
      " 17%|█▋        | 4745/27480 [00:14<01:18, 289.53it/s]\u001b[A\u001b[A\n",
      "\n",
      " 17%|█▋        | 4775/27480 [00:14<01:19, 285.93it/s]\u001b[A\u001b[A\n",
      "\n",
      " 17%|█▋        | 4806/27480 [00:14<01:17, 291.10it/s]\u001b[A\u001b[A\n",
      "\n",
      " 18%|█▊        | 4839/27480 [00:15<01:15, 300.92it/s]\u001b[A\u001b[A\n",
      "\n",
      " 18%|█▊        | 4872/27480 [00:15<01:13, 307.36it/s]\u001b[A\u001b[A\n",
      "\n",
      " 18%|█▊        | 4906/27480 [00:15<01:11, 315.62it/s]\u001b[A\u001b[A\n",
      "\n",
      " 18%|█▊        | 4939/27480 [00:15<01:10, 319.80it/s]\u001b[A\u001b[A\n",
      "\n",
      " 18%|█▊        | 4972/27480 [00:15<01:09, 322.08it/s]\u001b[A\u001b[A\n",
      "\n",
      " 18%|█▊        | 5006/27480 [00:15<01:08, 327.25it/s]\u001b[A\u001b[A\n",
      "\n",
      " 18%|█▊        | 5043/27480 [00:15<01:06, 338.08it/s]\u001b[A\u001b[A\n",
      "\n",
      " 18%|█▊        | 5082/27480 [00:15<01:03, 350.27it/s]\u001b[A\u001b[A\n",
      "\n",
      " 19%|█▊        | 5118/27480 [00:15<01:03, 353.10it/s]\u001b[A\u001b[A\n",
      "\n",
      " 19%|█▉        | 5154/27480 [00:15<01:03, 349.97it/s]\u001b[A\u001b[A\n",
      "\n",
      " 19%|█▉        | 5190/27480 [00:16<01:06, 337.09it/s]\u001b[A\u001b[A\n",
      "\n",
      " 19%|█▉        | 5224/27480 [00:16<01:07, 331.01it/s]\u001b[A\u001b[A\n",
      "\n",
      " 19%|█▉        | 5258/27480 [00:16<01:09, 318.68it/s]\u001b[A\u001b[A\n",
      "\n",
      " 19%|█▉        | 5291/27480 [00:16<01:09, 317.32it/s]\u001b[A\u001b[A\n",
      "\n",
      " 19%|█▉        | 5323/27480 [00:16<01:11, 310.73it/s]\u001b[A\u001b[A\n",
      "\n",
      " 19%|█▉        | 5355/27480 [00:16<01:10, 313.44it/s]\u001b[A\u001b[A\n",
      "\n",
      " 20%|█▉        | 5387/27480 [00:16<01:12, 306.31it/s]\u001b[A\u001b[A\n",
      "\n",
      " 20%|█▉        | 5418/27480 [00:16<01:15, 293.47it/s]\u001b[A\u001b[A\n",
      "\n",
      " 20%|█▉        | 5448/27480 [00:16<01:16, 289.38it/s]\u001b[A\u001b[A\n",
      "\n",
      " 20%|█▉        | 5484/27480 [00:17<01:11, 306.72it/s]\u001b[A\u001b[A\n",
      "\n",
      " 20%|██        | 5516/27480 [00:17<01:11, 306.98it/s]\u001b[A\u001b[A\n",
      "\n",
      " 20%|██        | 5552/27480 [00:17<01:08, 319.46it/s]\u001b[A\u001b[A\n",
      "\n",
      " 20%|██        | 5585/27480 [00:17<01:08, 321.60it/s]\u001b[A\u001b[A\n",
      "\n",
      " 20%|██        | 5618/27480 [00:17<01:08, 320.30it/s]\u001b[A\u001b[A\n",
      "\n",
      " 21%|██        | 5653/27480 [00:17<01:06, 327.75it/s]\u001b[A\u001b[A\n",
      "\n",
      " 21%|██        | 5690/27480 [00:17<01:04, 337.55it/s]\u001b[A\u001b[A\n",
      "\n",
      " 21%|██        | 5725/27480 [00:17<01:03, 340.16it/s]\u001b[A\u001b[A\n",
      "\n",
      " 21%|██        | 5762/27480 [00:17<01:02, 346.63it/s]\u001b[A\u001b[A\n",
      "\n",
      " 21%|██        | 5799/27480 [00:17<01:01, 351.32it/s]\u001b[A\u001b[A\n",
      "\n",
      " 21%|██        | 5836/27480 [00:18<01:00, 355.69it/s]\u001b[A\u001b[A\n",
      "\n",
      " 21%|██▏       | 5872/27480 [00:18<01:00, 354.86it/s]\u001b[A\u001b[A\n",
      "\n",
      " 21%|██▏       | 5908/27480 [00:18<01:01, 350.18it/s]\u001b[A\u001b[A\n",
      "\n",
      " 22%|██▏       | 5944/27480 [00:18<01:01, 352.00it/s]\u001b[A\u001b[A\n",
      "\n",
      " 22%|██▏       | 5980/27480 [00:18<01:00, 353.32it/s]\u001b[A\u001b[A\n",
      "\n",
      " 22%|██▏       | 6016/27480 [00:18<01:00, 354.25it/s]\u001b[A\u001b[A\n",
      "\n",
      " 22%|██▏       | 6053/27480 [00:18<00:59, 358.83it/s]\u001b[A\u001b[A\n",
      "\n",
      " 22%|██▏       | 6089/27480 [00:18<01:01, 349.79it/s]\u001b[A\u001b[A\n",
      "\n",
      " 22%|██▏       | 6125/27480 [00:18<01:08, 312.36it/s]\u001b[A\u001b[A\n",
      "\n",
      " 22%|██▏       | 6158/27480 [00:19<01:09, 307.71it/s]\u001b[A\u001b[A\n",
      "\n",
      " 23%|██▎       | 6190/27480 [00:19<01:08, 310.39it/s]\u001b[A\u001b[A\n",
      "\n",
      " 23%|██▎       | 6222/27480 [00:19<01:07, 313.21it/s]\u001b[A\u001b[A\n",
      "\n",
      " 23%|██▎       | 6255/27480 [00:19<01:06, 318.04it/s]\u001b[A\u001b[A\n",
      "\n",
      " 23%|██▎       | 6288/27480 [00:19<01:07, 313.29it/s]\u001b[A\u001b[A\n",
      "\n",
      " 23%|██▎       | 6321/27480 [00:19<01:06, 316.29it/s]\u001b[A\u001b[A\n",
      "\n",
      " 23%|██▎       | 6355/27480 [00:19<01:05, 322.17it/s]\u001b[A\u001b[A\n",
      "\n",
      " 23%|██▎       | 6388/27480 [00:19<01:05, 320.69it/s]\u001b[A\u001b[A\n",
      "\n",
      " 23%|██▎       | 6421/27480 [00:19<01:08, 305.46it/s]\u001b[A\u001b[A\n",
      "\n",
      " 23%|██▎       | 6452/27480 [00:20<01:11, 295.41it/s]\u001b[A\u001b[A\n",
      "\n",
      " 24%|██▎       | 6482/27480 [00:20<01:11, 294.12it/s]\u001b[A\u001b[A\n",
      "\n",
      " 24%|██▎       | 6514/27480 [00:20<01:09, 299.74it/s]\u001b[A\u001b[A\n",
      "\n",
      " 24%|██▍       | 6547/27480 [00:20<01:08, 306.51it/s]\u001b[A\u001b[A\n",
      "\n",
      " 24%|██▍       | 6582/27480 [00:20<01:05, 317.51it/s]\u001b[A\u001b[A\n",
      "\n",
      " 24%|██▍       | 6617/27480 [00:20<01:03, 326.60it/s]\u001b[A\u001b[A\n",
      "\n",
      " 24%|██▍       | 6652/27480 [00:20<01:02, 332.37it/s]\u001b[A\u001b[A\n",
      "\n",
      " 24%|██▍       | 6686/27480 [00:20<01:03, 324.99it/s]\u001b[A\u001b[A\n",
      "\n",
      " 24%|██▍       | 6719/27480 [00:20<01:03, 324.55it/s]\u001b[A\u001b[A\n",
      "\n",
      " 25%|██▍       | 6754/27480 [00:20<01:02, 329.95it/s]\u001b[A\u001b[A\n",
      "\n",
      " 25%|██▍       | 6788/27480 [00:21<01:02, 331.93it/s]\u001b[A\u001b[A\n",
      "\n",
      " 25%|██▍       | 6825/27480 [00:21<01:00, 340.61it/s]\u001b[A\u001b[A\n",
      "\n",
      " 25%|██▍       | 6860/27480 [00:21<01:00, 342.32it/s]\u001b[A\u001b[A\n",
      "\n",
      " 25%|██▌       | 6895/27480 [00:21<01:00, 342.57it/s]\u001b[A\u001b[A\n",
      "\n",
      " 25%|██▌       | 6930/27480 [00:21<01:00, 341.73it/s]\u001b[A\u001b[A\n",
      "\n",
      " 25%|██▌       | 6965/27480 [00:21<01:00, 339.17it/s]\u001b[A\u001b[A\n",
      "\n",
      " 25%|██▌       | 7000/27480 [00:21<01:00, 339.36it/s]\u001b[A\u001b[A\n",
      "\n",
      " 26%|██▌       | 7034/27480 [00:21<01:00, 336.57it/s]\u001b[A\u001b[A\n",
      "\n",
      " 26%|██▌       | 7071/27480 [00:21<00:59, 345.91it/s]\u001b[A\u001b[A\n",
      "\n",
      " 26%|██▌       | 7107/27480 [00:21<00:58, 347.02it/s]\u001b[A\u001b[A\n",
      "\n",
      " 26%|██▌       | 7142/27480 [00:22<01:00, 335.86it/s]\u001b[A\u001b[A\n",
      "\n",
      " 26%|██▌       | 7176/27480 [00:22<01:01, 328.30it/s]\u001b[A\u001b[A\n",
      "\n",
      " 26%|██▌       | 7210/27480 [00:22<01:01, 330.75it/s]\u001b[A\u001b[A\n",
      "\n",
      " 26%|██▋       | 7247/27480 [00:22<00:59, 340.68it/s]\u001b[A\u001b[A\n",
      "\n",
      " 26%|██▋       | 7282/27480 [00:22<00:59, 341.41it/s]\u001b[A\u001b[A\n",
      "\n",
      " 27%|██▋       | 7317/27480 [00:22<00:58, 341.97it/s]\u001b[A\u001b[A\n",
      "\n",
      " 27%|██▋       | 7352/27480 [00:22<00:59, 339.30it/s]\u001b[A\u001b[A\n",
      "\n",
      " 27%|██▋       | 7387/27480 [00:22<00:58, 341.43it/s]\u001b[A\u001b[A\n",
      "\n",
      " 27%|██▋       | 7422/27480 [00:22<00:58, 342.95it/s]\u001b[A\u001b[A\n",
      "\n",
      " 27%|██▋       | 7457/27480 [00:22<00:58, 341.00it/s]\u001b[A\u001b[A\n",
      "\n",
      " 27%|██▋       | 7492/27480 [00:23<01:02, 320.08it/s]\u001b[A\u001b[A\n",
      "\n",
      " 27%|██▋       | 7525/27480 [00:23<01:03, 316.52it/s]\u001b[A\u001b[A\n",
      "\n",
      " 28%|██▊       | 7557/27480 [00:23<01:04, 309.24it/s]\u001b[A\u001b[A\n",
      "\n",
      " 28%|██▊       | 7590/27480 [00:23<01:03, 314.32it/s]\u001b[A\u001b[A\n",
      "\n",
      " 28%|██▊       | 7622/27480 [00:23<01:04, 306.00it/s]\u001b[A\u001b[A\n",
      "\n",
      " 28%|██▊       | 7653/27480 [00:23<01:05, 301.82it/s]\u001b[A\u001b[A\n",
      "\n",
      " 28%|██▊       | 7685/27480 [00:23<01:05, 303.57it/s]\u001b[A\u001b[A\n",
      "\n",
      " 28%|██▊       | 7717/27480 [00:23<01:04, 306.55it/s]\u001b[A\u001b[A\n",
      "\n",
      " 28%|██▊       | 7749/27480 [00:23<01:03, 308.64it/s]\u001b[A\u001b[A\n",
      "\n",
      " 28%|██▊       | 7780/27480 [00:24<01:04, 305.43it/s]\u001b[A\u001b[A\n",
      "\n",
      " 28%|██▊       | 7811/27480 [00:24<01:09, 283.24it/s]\u001b[A\u001b[A\n",
      "\n",
      " 29%|██▊       | 7840/27480 [00:24<01:09, 284.37it/s]\u001b[A\u001b[A\n",
      "\n",
      " 29%|██▊       | 7875/27480 [00:24<01:05, 300.56it/s]\u001b[A\u001b[A\n",
      "\n",
      " 29%|██▉       | 7909/27480 [00:24<01:03, 310.55it/s]\u001b[A\u001b[A\n",
      "\n",
      " 29%|██▉       | 7943/27480 [00:24<01:01, 317.94it/s]\u001b[A\u001b[A\n",
      "\n",
      " 29%|██▉       | 7977/27480 [00:24<01:00, 323.29it/s]\u001b[A\u001b[A\n",
      "\n",
      " 29%|██▉       | 8013/27480 [00:24<00:58, 331.65it/s]\u001b[A\u001b[A\n",
      "\n",
      " 29%|██▉       | 8048/27480 [00:24<00:57, 335.98it/s]\u001b[A\u001b[A\n",
      "\n",
      " 29%|██▉       | 8084/27480 [00:24<00:56, 341.90it/s]\u001b[A\u001b[A\n",
      "\n",
      " 30%|██▉       | 8119/27480 [00:25<00:57, 338.27it/s]\u001b[A\u001b[A\n",
      "\n",
      " 30%|██▉       | 8153/27480 [00:25<01:01, 314.38it/s]\u001b[A\u001b[A\n",
      "\n",
      " 30%|██▉       | 8185/27480 [00:25<01:01, 311.40it/s]\u001b[A\u001b[A\n",
      "\n",
      " 30%|██▉       | 8217/27480 [00:25<01:01, 312.87it/s]\u001b[A\u001b[A\n",
      "\n",
      " 30%|███       | 8249/27480 [00:25<01:01, 313.27it/s]\u001b[A\u001b[A\n",
      "\n",
      " 30%|███       | 8282/27480 [00:25<01:00, 316.28it/s]\u001b[A\u001b[A\n",
      "\n",
      " 30%|███       | 8314/27480 [00:25<01:00, 314.58it/s]\u001b[A\u001b[A\n",
      "\n",
      " 30%|███       | 8346/27480 [00:25<01:00, 316.18it/s]\u001b[A\u001b[A\n",
      "\n",
      " 30%|███       | 8378/27480 [00:25<01:00, 313.58it/s]\u001b[A\u001b[A\n",
      "\n",
      " 31%|███       | 8411/27480 [00:26<00:59, 318.33it/s]\u001b[A\u001b[A\n",
      "\n",
      " 31%|███       | 8446/27480 [00:26<00:58, 324.52it/s]\u001b[A\u001b[A\n",
      "\n",
      " 31%|███       | 8480/27480 [00:26<00:57, 329.02it/s]\u001b[A\u001b[A\n",
      "\n",
      " 31%|███       | 8513/27480 [00:26<00:58, 325.41it/s]\u001b[A\u001b[A\n",
      "\n",
      " 31%|███       | 8546/27480 [00:26<00:58, 322.91it/s]\u001b[A\u001b[A\n",
      "\n",
      " 31%|███       | 8579/27480 [00:26<00:59, 315.68it/s]\u001b[A\u001b[A\n",
      "\n",
      " 31%|███▏      | 8611/27480 [00:26<01:00, 314.17it/s]\u001b[A\u001b[A\n",
      "\n",
      " 31%|███▏      | 8644/27480 [00:26<00:59, 316.03it/s]\u001b[A\u001b[A\n",
      "\n",
      " 32%|███▏      | 8677/27480 [00:26<00:58, 320.09it/s]\u001b[A\u001b[A\n",
      "\n",
      " 32%|███▏      | 8710/27480 [00:26<00:58, 318.30it/s]\u001b[A\u001b[A\n",
      "\n",
      " 32%|███▏      | 8742/27480 [00:27<01:01, 306.91it/s]\u001b[A\u001b[A\n",
      "\n",
      " 32%|███▏      | 8773/27480 [00:27<01:05, 284.91it/s]\u001b[A\u001b[A\n",
      "\n",
      " 32%|███▏      | 8802/27480 [00:27<01:06, 281.42it/s]\u001b[A\u001b[A\n",
      "\n",
      " 32%|███▏      | 8831/27480 [00:27<01:07, 276.63it/s]\u001b[A\u001b[A\n",
      "\n",
      " 32%|███▏      | 8861/27480 [00:27<01:05, 282.45it/s]\u001b[A\u001b[A\n",
      "\n",
      " 32%|███▏      | 8893/27480 [00:27<01:03, 291.95it/s]\u001b[A\u001b[A\n",
      "\n",
      " 32%|███▏      | 8924/27480 [00:27<01:02, 296.29it/s]\u001b[A\u001b[A\n",
      "\n",
      " 33%|███▎      | 8955/27480 [00:27<01:02, 298.54it/s]\u001b[A\u001b[A\n",
      "\n",
      " 33%|███▎      | 8985/27480 [00:27<01:03, 292.84it/s]\u001b[A\u001b[A\n",
      "\n",
      " 33%|███▎      | 9015/27480 [00:28<01:04, 285.69it/s]\u001b[A\u001b[A\n",
      "\n",
      " 33%|███▎      | 9044/27480 [00:28<01:04, 286.97it/s]\u001b[A\u001b[A\n",
      "\n"
     ]
    },
    {
     "name": "stderr",
     "output_type": "stream",
     "text": [
      " 33%|███▎      | 9073/27480 [00:28<01:06, 276.35it/s]\u001b[A\u001b[A\n",
      "\n",
      " 33%|███▎      | 9105/27480 [00:28<01:03, 287.37it/s]\u001b[A\u001b[A\n",
      "\n",
      " 33%|███▎      | 9137/27480 [00:28<01:02, 295.61it/s]\u001b[A\u001b[A\n",
      "\n",
      " 33%|███▎      | 9170/27480 [00:28<01:00, 304.28it/s]\u001b[A\u001b[A\n",
      "\n",
      " 33%|███▎      | 9204/27480 [00:28<00:58, 313.31it/s]\u001b[A\u001b[A\n",
      "\n",
      " 34%|███▎      | 9236/27480 [00:28<00:58, 312.52it/s]\u001b[A\u001b[A\n",
      "\n",
      " 34%|███▎      | 9269/27480 [00:28<00:57, 316.68it/s]\u001b[A\u001b[A\n",
      "\n",
      " 34%|███▍      | 9305/27480 [00:28<00:55, 326.72it/s]\u001b[A\u001b[A\n",
      "\n",
      " 34%|███▍      | 9341/27480 [00:29<00:54, 334.17it/s]\u001b[A\u001b[A\n",
      "\n",
      " 34%|███▍      | 9378/27480 [00:29<00:52, 343.21it/s]\u001b[A\u001b[A\n",
      "\n",
      " 34%|███▍      | 9413/27480 [00:29<00:56, 317.09it/s]\u001b[A\u001b[A\n",
      "\n",
      " 34%|███▍      | 9446/27480 [00:29<00:57, 311.77it/s]\u001b[A\u001b[A\n",
      "\n",
      " 34%|███▍      | 9478/27480 [00:29<00:58, 306.96it/s]\u001b[A\u001b[A\n",
      "\n",
      " 35%|███▍      | 9510/27480 [00:29<00:58, 308.93it/s]\u001b[A\u001b[A\n",
      "\n",
      " 35%|███▍      | 9544/27480 [00:29<00:56, 316.75it/s]\u001b[A\u001b[A\n",
      "\n",
      " 35%|███▍      | 9577/27480 [00:29<00:56, 318.76it/s]\u001b[A\u001b[A\n",
      "\n",
      " 35%|███▍      | 9610/27480 [00:29<00:55, 320.20it/s]\u001b[A\u001b[A\n",
      "\n",
      " 35%|███▌      | 9643/27480 [00:30<00:55, 319.30it/s]\u001b[A\u001b[A\n",
      "\n",
      " 35%|███▌      | 9675/27480 [00:30<00:56, 315.73it/s]\u001b[A\u001b[A\n",
      "\n",
      " 35%|███▌      | 9708/27480 [00:30<00:55, 318.03it/s]\u001b[A\u001b[A\n",
      "\n",
      " 35%|███▌      | 9741/27480 [00:30<00:55, 320.62it/s]\u001b[A\u001b[A\n",
      "\n",
      " 36%|███▌      | 9774/27480 [00:30<00:58, 302.90it/s]\u001b[A\u001b[A\n",
      "\n",
      " 36%|███▌      | 9805/27480 [00:30<00:58, 304.29it/s]\u001b[A\u001b[A\n",
      "\n",
      " 36%|███▌      | 9837/27480 [00:30<00:57, 307.09it/s]\u001b[A\u001b[A\n",
      "\n",
      " 36%|███▌      | 9870/27480 [00:30<00:56, 312.73it/s]\u001b[A\u001b[A\n",
      "\n",
      " 36%|███▌      | 9903/27480 [00:30<00:55, 314.96it/s]\u001b[A\u001b[A\n",
      "\n",
      " 36%|███▌      | 9939/27480 [00:30<00:53, 326.38it/s]\u001b[A\u001b[A\n",
      "\n",
      " 36%|███▋      | 9975/27480 [00:31<00:52, 335.76it/s]\u001b[A\u001b[A\n",
      "\n",
      " 36%|███▋      | 10011/27480 [00:31<00:51, 339.77it/s]\u001b[A\u001b[A\n",
      "\n",
      " 37%|███▋      | 10046/27480 [00:31<00:50, 342.78it/s]\u001b[A\u001b[A\n",
      "\n",
      " 37%|███▋      | 10081/27480 [00:31<00:51, 338.89it/s]\u001b[A\u001b[A\n",
      "\n",
      " 37%|███▋      | 10115/27480 [00:31<00:52, 332.27it/s]\u001b[A\u001b[A\n",
      "\n",
      " 37%|███▋      | 10149/27480 [00:31<00:52, 332.59it/s]\u001b[A\u001b[A\n",
      "\n",
      " 37%|███▋      | 10183/27480 [00:31<00:52, 331.84it/s]\u001b[A\u001b[A\n",
      "\n",
      " 37%|███▋      | 10217/27480 [00:31<00:52, 326.57it/s]\u001b[A\u001b[A\n",
      "\n",
      " 37%|███▋      | 10250/27480 [00:31<00:53, 324.69it/s]\u001b[A\u001b[A\n",
      "\n",
      " 37%|███▋      | 10283/27480 [00:32<00:53, 319.63it/s]\u001b[A\u001b[A\n",
      "\n",
      " 38%|███▊      | 10316/27480 [00:32<00:53, 320.77it/s]\u001b[A\u001b[A\n",
      "\n",
      " 38%|███▊      | 10349/27480 [00:32<00:54, 313.37it/s]\u001b[A\u001b[A\n",
      "\n",
      " 38%|███▊      | 10382/27480 [00:32<00:53, 317.23it/s]\u001b[A\u001b[A\n",
      "\n",
      " 38%|███▊      | 10414/27480 [00:32<00:54, 315.24it/s]\u001b[A\u001b[A\n",
      "\n",
      " 38%|███▊      | 10446/27480 [00:32<00:56, 302.32it/s]\u001b[A\u001b[A\n",
      "\n",
      " 38%|███▊      | 10477/27480 [00:32<00:57, 293.35it/s]\u001b[A\u001b[A\n",
      "\n",
      " 38%|███▊      | 10509/27480 [00:32<00:56, 299.14it/s]\u001b[A\u001b[A\n",
      "\n",
      " 38%|███▊      | 10540/27480 [00:32<00:56, 300.57it/s]\u001b[A\u001b[A\n",
      "\n",
      " 38%|███▊      | 10573/27480 [00:32<00:55, 306.25it/s]\u001b[A\u001b[A\n",
      "\n",
      " 39%|███▊      | 10605/27480 [00:33<00:54, 308.49it/s]\u001b[A\u001b[A\n",
      "\n",
      " 39%|███▊      | 10639/27480 [00:33<00:53, 315.54it/s]\u001b[A\u001b[A\n",
      "\n",
      " 39%|███▉      | 10673/27480 [00:33<00:52, 321.56it/s]\u001b[A\u001b[A\n",
      "\n",
      " 39%|███▉      | 10706/27480 [00:33<00:52, 321.24it/s]\u001b[A\u001b[A\n",
      "\n",
      " 39%|███▉      | 10741/27480 [00:33<00:50, 328.40it/s]\u001b[A\u001b[A\n",
      "\n",
      " 39%|███▉      | 10778/27480 [00:33<00:49, 338.93it/s]\u001b[A\u001b[A\n",
      "\n",
      " 39%|███▉      | 10814/27480 [00:33<00:48, 344.03it/s]\u001b[A\u001b[A\n",
      "\n",
      " 39%|███▉      | 10849/27480 [00:33<00:48, 342.74it/s]\u001b[A\u001b[A\n",
      "\n",
      " 40%|███▉      | 10884/27480 [00:33<00:50, 326.52it/s]\u001b[A\u001b[A\n",
      "\n",
      " 40%|███▉      | 10917/27480 [00:34<00:50, 325.62it/s]\u001b[A\u001b[A\n",
      "\n",
      " 40%|███▉      | 10950/27480 [00:34<00:50, 324.99it/s]\u001b[A\u001b[A\n",
      "\n",
      " 40%|███▉      | 10983/27480 [00:34<00:51, 321.70it/s]\u001b[A\u001b[A\n",
      "\n",
      " 40%|████      | 11016/27480 [00:34<00:51, 320.37it/s]\u001b[A\u001b[A\n",
      "\n",
      " 40%|████      | 11049/27480 [00:34<00:51, 318.56it/s]\u001b[A\u001b[A\n",
      "\n",
      " 40%|████      | 11081/27480 [00:34<00:52, 315.21it/s]\u001b[A\u001b[A\n",
      "\n",
      " 40%|████      | 11113/27480 [00:34<00:53, 303.13it/s]\u001b[A\u001b[A\n",
      "\n",
      " 41%|████      | 11144/27480 [00:34<00:54, 300.73it/s]\u001b[A\u001b[A\n",
      "\n",
      " 41%|████      | 11177/27480 [00:34<00:53, 307.20it/s]\u001b[A\u001b[A\n",
      "\n",
      " 41%|████      | 11210/27480 [00:34<00:52, 311.03it/s]\u001b[A\u001b[A\n",
      "\n",
      " 41%|████      | 11243/27480 [00:35<00:51, 313.77it/s]\u001b[A\u001b[A\n",
      "\n",
      " 41%|████      | 11276/27480 [00:35<00:51, 314.84it/s]\u001b[A\u001b[A\n",
      "\n",
      " 41%|████      | 11310/27480 [00:35<00:50, 318.37it/s]\u001b[A\u001b[A\n",
      "\n",
      " 41%|████▏     | 11342/27480 [00:35<00:50, 317.91it/s]\u001b[A\u001b[A\n",
      "\n",
      " 41%|████▏     | 11374/27480 [00:35<00:50, 317.59it/s]\u001b[A\u001b[A\n",
      "\n",
      " 42%|████▏     | 11406/27480 [00:35<00:53, 302.97it/s]\u001b[A\u001b[A\n",
      "\n",
      " 42%|████▏     | 11437/27480 [00:35<00:54, 296.27it/s]\u001b[A\u001b[A\n",
      "\n",
      " 42%|████▏     | 11467/27480 [00:35<00:54, 294.74it/s]\u001b[A\u001b[A\n",
      "\n",
      " 42%|████▏     | 11499/27480 [00:35<00:53, 301.07it/s]\u001b[A\u001b[A\n",
      "\n",
      " 42%|████▏     | 11534/27480 [00:35<00:50, 313.38it/s]\u001b[A\u001b[A\n",
      "\n",
      " 42%|████▏     | 11566/27480 [00:36<00:50, 313.49it/s]\u001b[A\u001b[A\n",
      "\n",
      " 42%|████▏     | 11600/27480 [00:36<00:49, 320.99it/s]\u001b[A\u001b[A\n",
      "\n",
      " 42%|████▏     | 11635/27480 [00:36<00:48, 328.25it/s]\u001b[A\u001b[A\n",
      "\n",
      " 42%|████▏     | 11671/27480 [00:36<00:47, 334.35it/s]\u001b[A\u001b[A\n",
      "\n",
      " 43%|████▎     | 11705/27480 [00:36<00:47, 332.09it/s]\u001b[A\u001b[A\n",
      "\n",
      " 43%|████▎     | 11739/27480 [00:36<00:47, 329.56it/s]\u001b[A\u001b[A\n",
      "\n",
      " 43%|████▎     | 11773/27480 [00:36<00:47, 330.68it/s]\u001b[A\u001b[A\n",
      "\n",
      " 43%|████▎     | 11808/27480 [00:36<00:46, 334.32it/s]\u001b[A\u001b[A\n",
      "\n",
      " 43%|████▎     | 11842/27480 [00:36<00:47, 332.10it/s]\u001b[A\u001b[A\n",
      "\n",
      " 43%|████▎     | 11876/27480 [00:37<00:46, 332.47it/s]\u001b[A\u001b[A\n",
      "\n",
      " 43%|████▎     | 11913/27480 [00:37<00:45, 341.95it/s]\u001b[A\u001b[A\n",
      "\n",
      " 43%|████▎     | 11949/27480 [00:37<00:44, 346.14it/s]\u001b[A\u001b[A\n",
      "\n",
      " 44%|████▎     | 11984/27480 [00:37<00:44, 345.27it/s]\u001b[A\u001b[A\n",
      "\n",
      " 44%|████▎     | 12019/27480 [00:37<00:44, 343.61it/s]\u001b[A\u001b[A\n",
      "\n",
      " 44%|████▍     | 12054/27480 [00:37<00:46, 334.57it/s]\u001b[A\u001b[A\n",
      "\n",
      " 44%|████▍     | 12088/27480 [00:37<00:45, 336.18it/s]\u001b[A\u001b[A\n",
      "\n",
      " 44%|████▍     | 12122/27480 [00:37<00:48, 318.37it/s]\u001b[A\u001b[A\n",
      "\n",
      " 44%|████▍     | 12155/27480 [00:37<00:50, 302.33it/s]\u001b[A\u001b[A\n",
      "\n",
      " 44%|████▍     | 12187/27480 [00:37<00:49, 306.52it/s]\u001b[A\u001b[A\n",
      "\n",
      " 44%|████▍     | 12222/27480 [00:38<00:48, 317.52it/s]\u001b[A\u001b[A\n",
      "\n",
      " 45%|████▍     | 12255/27480 [00:38<00:47, 317.49it/s]\u001b[A\u001b[A\n",
      "\n",
      " 45%|████▍     | 12289/27480 [00:38<00:46, 323.92it/s]\u001b[A\u001b[A\n",
      "\n",
      " 45%|████▍     | 12322/27480 [00:38<00:46, 324.73it/s]\u001b[A\u001b[A\n",
      "\n",
      " 45%|████▍     | 12356/27480 [00:38<00:46, 327.30it/s]\u001b[A\u001b[A\n",
      "\n",
      " 45%|████▌     | 12392/27480 [00:38<00:44, 336.43it/s]\u001b[A\u001b[A\n",
      "\n",
      " 45%|████▌     | 12427/27480 [00:38<00:44, 337.47it/s]\u001b[A\u001b[A\n",
      "\n",
      " 45%|████▌     | 12462/27480 [00:38<00:44, 338.17it/s]\u001b[A\u001b[A\n",
      "\n",
      " 45%|████▌     | 12498/27480 [00:38<00:43, 342.42it/s]\u001b[A\u001b[A\n",
      "\n",
      " 46%|████▌     | 12533/27480 [00:39<00:45, 326.39it/s]\u001b[A\u001b[A\n",
      "\n",
      " 46%|████▌     | 12566/27480 [00:39<00:46, 323.56it/s]\u001b[A\u001b[A\n",
      "\n",
      " 46%|████▌     | 12599/27480 [00:39<00:46, 322.62it/s]\u001b[A\u001b[A\n",
      "\n",
      " 46%|████▌     | 12633/27480 [00:39<00:45, 326.69it/s]\u001b[A\u001b[A\n",
      "\n",
      " 46%|████▌     | 12666/27480 [00:39<00:45, 324.77it/s]\u001b[A\u001b[A\n",
      "\n",
      " 46%|████▌     | 12699/27480 [00:39<00:45, 323.44it/s]\u001b[A\u001b[A\n",
      "\n",
      " 46%|████▋     | 12732/27480 [00:39<00:46, 318.82it/s]\u001b[A\u001b[A\n",
      "\n",
      " 46%|████▋     | 12764/27480 [00:39<00:46, 319.13it/s]\u001b[A\u001b[A\n",
      "\n",
      " 47%|████▋     | 12796/27480 [00:39<00:47, 311.05it/s]\u001b[A\u001b[A\n",
      "\n",
      " 47%|████▋     | 12828/27480 [00:39<00:49, 298.75it/s]\u001b[A\u001b[A\n",
      "\n",
      " 47%|████▋     | 12859/27480 [00:40<00:49, 295.98it/s]\u001b[A\u001b[A\n",
      "\n",
      " 47%|████▋     | 12891/27480 [00:40<00:48, 301.90it/s]\u001b[A\u001b[A\n",
      "\n",
      " 47%|████▋     | 12924/27480 [00:40<00:47, 308.09it/s]\u001b[A\u001b[A\n",
      "\n",
      " 47%|████▋     | 12955/27480 [00:40<00:47, 304.12it/s]\u001b[A\u001b[A\n",
      "\n",
      " 47%|████▋     | 12988/27480 [00:40<00:46, 310.57it/s]\u001b[A\u001b[A\n",
      "\n",
      " 47%|████▋     | 13021/27480 [00:40<00:45, 315.28it/s]\u001b[A\u001b[A\n",
      "\n",
      " 48%|████▊     | 13054/27480 [00:40<00:45, 318.62it/s]\u001b[A\u001b[A\n",
      "\n",
      " 48%|████▊     | 13086/27480 [00:40<00:47, 306.22it/s]\u001b[A\u001b[A\n",
      "\n",
      " 48%|████▊     | 13117/27480 [00:40<00:47, 299.33it/s]\u001b[A\u001b[A\n",
      "\n",
      " 48%|████▊     | 13148/27480 [00:41<00:49, 290.54it/s]\u001b[A\u001b[A\n",
      "\n",
      " 48%|████▊     | 13181/27480 [00:41<00:47, 300.54it/s]\u001b[A\u001b[A\n",
      "\n",
      " 48%|████▊     | 13212/27480 [00:41<00:47, 303.28it/s]\u001b[A\u001b[A\n",
      "\n",
      " 48%|████▊     | 13245/27480 [00:41<00:46, 308.22it/s]\u001b[A\u001b[A\n",
      "\n",
      " 48%|████▊     | 13278/27480 [00:41<00:45, 312.66it/s]\u001b[A\u001b[A\n",
      "\n",
      " 48%|████▊     | 13311/27480 [00:41<00:44, 315.84it/s]\u001b[A\u001b[A\n",
      "\n",
      " 49%|████▊     | 13343/27480 [00:41<00:45, 311.55it/s]\u001b[A\u001b[A\n",
      "\n",
      " 49%|████▊     | 13378/27480 [00:41<00:43, 321.28it/s]\u001b[A\u001b[A\n",
      "\n",
      " 49%|████▉     | 13411/27480 [00:41<00:44, 315.46it/s]\u001b[A\u001b[A\n",
      "\n",
      " 49%|████▉     | 13443/27480 [00:41<00:44, 314.00it/s]\u001b[A\u001b[A\n",
      "\n",
      " 49%|████▉     | 13476/27480 [00:42<00:44, 316.82it/s]\u001b[A\u001b[A\n",
      "\n",
      " 49%|████▉     | 13508/27480 [00:42<00:44, 313.13it/s]\u001b[A\u001b[A\n",
      "\n",
      " 49%|████▉     | 13540/27480 [00:42<00:44, 313.27it/s]\u001b[A\u001b[A\n",
      "\n",
      " 49%|████▉     | 13572/27480 [00:42<00:44, 312.53it/s]\u001b[A\u001b[A\n",
      "\n",
      " 50%|████▉     | 13604/27480 [00:42<00:44, 311.94it/s]\u001b[A\u001b[A\n",
      "\n",
      " 50%|████▉     | 13637/27480 [00:42<00:43, 316.23it/s]\u001b[A\u001b[A\n",
      "\n",
      " 50%|████▉     | 13669/27480 [00:42<00:43, 317.35it/s]\u001b[A\u001b[A\n",
      "\n",
      " 50%|████▉     | 13702/27480 [00:42<00:43, 319.19it/s]\u001b[A\u001b[A\n",
      "\n",
      " 50%|████▉     | 13735/27480 [00:42<00:42, 321.44it/s]\u001b[A\u001b[A\n",
      "\n",
      " 50%|█████     | 13768/27480 [00:42<00:44, 310.23it/s]\u001b[A\u001b[A\n",
      "\n",
      " 50%|█████     | 13800/27480 [00:43<00:47, 285.47it/s]\u001b[A\u001b[A\n",
      "\n",
      " 50%|█████     | 13830/27480 [00:43<00:48, 283.92it/s]\u001b[A\u001b[A\n",
      "\n",
      " 50%|█████     | 13859/27480 [00:43<00:48, 281.56it/s]\u001b[A\u001b[A\n",
      "\n",
      " 51%|█████     | 13888/27480 [00:43<00:48, 279.12it/s]\u001b[A\u001b[A\n",
      "\n",
      " 51%|█████     | 13918/27480 [00:43<00:47, 282.65it/s]\u001b[A\u001b[A\n",
      "\n",
      " 51%|█████     | 13947/27480 [00:43<00:48, 279.06it/s]\u001b[A\u001b[A\n",
      "\n",
      " 51%|█████     | 13976/27480 [00:43<00:47, 281.43it/s]\u001b[A\u001b[A\n",
      "\n",
      " 51%|█████     | 14005/27480 [00:43<00:47, 283.92it/s]\u001b[A\u001b[A\n",
      "\n",
      " 51%|█████     | 14036/27480 [00:43<00:46, 290.48it/s]\u001b[A\u001b[A\n",
      "\n",
      " 51%|█████     | 14066/27480 [00:44<00:47, 283.30it/s]\u001b[A\u001b[A\n",
      "\n",
      " 51%|█████▏    | 14095/27480 [00:44<00:47, 279.51it/s]\u001b[A\u001b[A\n",
      "\n",
      " 51%|█████▏    | 14124/27480 [00:44<00:47, 279.31it/s]\u001b[A\u001b[A\n",
      "\n",
      " 52%|█████▏    | 14155/27480 [00:44<00:46, 285.42it/s]\u001b[A\u001b[A\n",
      "\n",
      " 52%|█████▏    | 14187/27480 [00:44<00:45, 293.38it/s]\u001b[A\u001b[A\n",
      "\n",
      " 52%|█████▏    | 14220/27480 [00:44<00:43, 302.68it/s]\u001b[A\u001b[A\n",
      "\n",
      " 52%|█████▏    | 14254/27480 [00:44<00:42, 312.10it/s]\u001b[A\u001b[A\n",
      "\n",
      " 52%|█████▏    | 14287/27480 [00:44<00:41, 316.38it/s]\u001b[A\u001b[A\n",
      "\n",
      " 52%|█████▏    | 14321/27480 [00:44<00:40, 321.28it/s]\u001b[A\u001b[A\n",
      "\n",
      " 52%|█████▏    | 14356/27480 [00:44<00:39, 328.42it/s]\u001b[A\u001b[A\n",
      "\n",
      " 52%|█████▏    | 14389/27480 [00:45<00:41, 312.13it/s]\u001b[A\u001b[A\n",
      "\n",
      " 52%|█████▏    | 14421/27480 [00:45<00:43, 297.78it/s]\u001b[A\u001b[A\n",
      "\n",
      " 53%|█████▎    | 14453/27480 [00:45<00:43, 302.35it/s]\u001b[A\u001b[A\n",
      "\n",
      " 53%|█████▎    | 14488/27480 [00:45<00:41, 314.37it/s]\u001b[A\u001b[A\n",
      "\n",
      " 53%|█████▎    | 14523/27480 [00:45<00:40, 322.93it/s]\u001b[A\u001b[A\n",
      "\n",
      " 53%|█████▎    | 14556/27480 [00:45<00:40, 321.22it/s]\u001b[A\u001b[A\n",
      "\n",
      " 53%|█████▎    | 14590/27480 [00:45<00:39, 325.69it/s]\u001b[A\u001b[A\n",
      "\n",
      " 53%|█████▎    | 14623/27480 [00:45<00:40, 320.31it/s]\u001b[A\u001b[A\n",
      "\n",
      " 53%|█████▎    | 14656/27480 [00:45<00:39, 323.15it/s]\u001b[A\u001b[A\n",
      "\n",
      " 53%|█████▎    | 14691/27480 [00:46<00:38, 329.84it/s]\u001b[A\u001b[A\n",
      "\n",
      " 54%|█████▎    | 14725/27480 [00:46<00:40, 317.88it/s]\u001b[A\u001b[A\n",
      "\n",
      " 54%|█████▎    | 14757/27480 [00:46<00:40, 313.83it/s]\u001b[A\u001b[A\n",
      "\n",
      " 54%|█████▍    | 14789/27480 [00:46<00:40, 313.80it/s]\u001b[A\u001b[A\n",
      "\n",
      " 54%|█████▍    | 14821/27480 [00:46<00:40, 314.70it/s]\u001b[A\u001b[A\n",
      "\n",
      " 54%|█████▍    | 14856/27480 [00:46<00:39, 322.72it/s]\u001b[A\u001b[A\n",
      "\n",
      " 54%|█████▍    | 14889/27480 [00:46<00:38, 322.97it/s]\u001b[A\u001b[A\n",
      "\n",
      " 54%|█████▍    | 14922/27480 [00:46<00:39, 319.42it/s]\u001b[A\u001b[A\n",
      "\n",
      " 54%|█████▍    | 14959/27480 [00:46<00:37, 331.25it/s]\u001b[A\u001b[A\n",
      "\n",
      " 55%|█████▍    | 14994/27480 [00:46<00:37, 334.73it/s]\u001b[A\u001b[A\n",
      "\n",
      " 55%|█████▍    | 15028/27480 [00:47<00:38, 321.06it/s]\u001b[A\u001b[A\n",
      "\n",
      " 55%|█████▍    | 15061/27480 [00:47<00:39, 312.68it/s]\u001b[A\u001b[A\n",
      "\n",
      " 55%|█████▍    | 15093/27480 [00:47<00:40, 307.57it/s]\u001b[A\u001b[A\n",
      "\n",
      " 55%|█████▌    | 15124/27480 [00:47<00:40, 307.38it/s]\u001b[A\u001b[A\n",
      "\n",
      " 55%|█████▌    | 15155/27480 [00:47<00:40, 304.50it/s]\u001b[A\u001b[A\n",
      "\n",
      " 55%|█████▌    | 15186/27480 [00:47<00:40, 301.69it/s]\u001b[A\u001b[A\n",
      "\n",
      " 55%|█████▌    | 15217/27480 [00:47<00:40, 300.60it/s]\u001b[A\u001b[A\n",
      "\n",
      " 55%|█████▌    | 15248/27480 [00:47<00:40, 303.36it/s]\u001b[A\u001b[A\n",
      "\n",
      " 56%|█████▌    | 15281/27480 [00:47<00:39, 309.11it/s]\u001b[A\u001b[A\n",
      "\n",
      " 56%|█████▌    | 15312/27480 [00:48<00:39, 308.46it/s]\u001b[A\u001b[A\n",
      "\n",
      " 56%|█████▌    | 15343/27480 [00:48<00:39, 305.26it/s]\u001b[A\u001b[A\n",
      "\n",
      " 56%|█████▌    | 15374/27480 [00:48<00:39, 303.07it/s]\u001b[A\u001b[A\n",
      "\n",
      " 56%|█████▌    | 15405/27480 [00:48<00:39, 302.47it/s]\u001b[A\u001b[A\n",
      "\n",
      " 56%|█████▌    | 15436/27480 [00:48<00:40, 297.66it/s]\u001b[A\u001b[A\n",
      "\n",
      " 56%|█████▋    | 15468/27480 [00:48<00:39, 303.14it/s]\u001b[A\u001b[A\n",
      "\n",
      " 56%|█████▋    | 15502/27480 [00:48<00:38, 312.50it/s]\u001b[A\u001b[A\n",
      "\n",
      " 57%|█████▋    | 15536/27480 [00:48<00:37, 318.47it/s]\u001b[A\u001b[A\n",
      "\n",
      " 57%|█████▋    | 15568/27480 [00:48<00:38, 313.27it/s]\u001b[A\u001b[A\n",
      "\n",
      " 57%|█████▋    | 15601/27480 [00:48<00:37, 316.28it/s]\u001b[A\u001b[A\n",
      "\n",
      " 57%|█████▋    | 15633/27480 [00:49<00:37, 314.58it/s]\u001b[A\u001b[A\n",
      "\n",
      " 57%|█████▋    | 15668/27480 [00:49<00:36, 321.74it/s]\u001b[A\u001b[A\n",
      "\n",
      " 57%|█████▋    | 15701/27480 [00:49<00:36, 321.37it/s]\u001b[A\u001b[A\n",
      "\n",
      " 57%|█████▋    | 15734/27480 [00:49<00:37, 309.29it/s]\u001b[A\u001b[A\n",
      "\n",
      " 57%|█████▋    | 15768/27480 [00:49<00:37, 316.15it/s]\u001b[A\u001b[A\n",
      "\n",
      " 57%|█████▊    | 15801/27480 [00:49<00:36, 319.25it/s]\u001b[A\u001b[A\n",
      "\n",
      " 58%|█████▊    | 15834/27480 [00:49<00:37, 310.57it/s]\u001b[A\u001b[A\n",
      "\n",
      " 58%|█████▊    | 15866/27480 [00:49<00:37, 311.51it/s]\u001b[A\u001b[A\n",
      "\n",
      " 58%|█████▊    | 15899/27480 [00:49<00:36, 314.15it/s]\u001b[A\u001b[A\n",
      "\n",
      " 58%|█████▊    | 15932/27480 [00:49<00:36, 316.00it/s]\u001b[A\u001b[A\n",
      "\n",
      " 58%|█████▊    | 15964/27480 [00:50<00:39, 295.24it/s]\u001b[A\u001b[A\n",
      "\n",
      " 58%|█████▊    | 15998/27480 [00:50<00:37, 304.06it/s]\u001b[A\u001b[A\n",
      "\n",
      " 58%|█████▊    | 16032/27480 [00:50<00:36, 313.18it/s]\u001b[A\u001b[A\n",
      "\n",
      " 58%|█████▊    | 16064/27480 [00:50<00:36, 312.39it/s]\u001b[A\u001b[A\n",
      "\n",
      " 59%|█████▊    | 16097/27480 [00:50<00:36, 315.65it/s]\u001b[A\u001b[A\n",
      "\n",
      " 59%|█████▊    | 16129/27480 [00:50<00:36, 309.61it/s]\u001b[A\u001b[A\n",
      "\n",
      " 59%|█████▉    | 16163/27480 [00:50<00:35, 317.22it/s]\u001b[A\u001b[A\n",
      "\n",
      " 59%|█████▉    | 16201/27480 [00:50<00:33, 332.01it/s]\u001b[A\u001b[A\n",
      "\n",
      " 59%|█████▉    | 16238/27480 [00:50<00:33, 339.74it/s]\u001b[A\u001b[A\n",
      "\n",
      " 59%|█████▉    | 16275/27480 [00:51<00:32, 345.35it/s]\u001b[A\u001b[A\n",
      "\n",
      " 59%|█████▉    | 16312/27480 [00:51<00:32, 348.45it/s]\u001b[A\u001b[A\n",
      "\n",
      " 59%|█████▉    | 16347/27480 [00:51<00:33, 336.79it/s]\u001b[A\u001b[A\n",
      "\n",
      " 60%|█████▉    | 16381/27480 [00:51<00:33, 335.74it/s]\u001b[A\u001b[A\n",
      "\n",
      " 60%|█████▉    | 16415/27480 [00:51<00:33, 330.18it/s]\u001b[A\u001b[A\n",
      "\n",
      " 60%|█████▉    | 16449/27480 [00:51<00:33, 332.05it/s]\u001b[A\u001b[A\n",
      "\n",
      " 60%|█████▉    | 16485/27480 [00:51<00:32, 336.15it/s]\u001b[A\u001b[A\n",
      "\n",
      " 60%|██████    | 16520/27480 [00:51<00:32, 337.25it/s]\u001b[A\u001b[A\n",
      "\n",
      " 60%|██████    | 16558/27480 [00:51<00:31, 347.11it/s]\u001b[A\u001b[A\n",
      "\n",
      " 60%|██████    | 16593/27480 [00:51<00:31, 346.94it/s]\u001b[A\u001b[A\n",
      "\n",
      " 61%|██████    | 16628/27480 [00:52<00:31, 344.81it/s]\u001b[A\u001b[A\n",
      "\n",
      " 61%|██████    | 16663/27480 [00:52<00:31, 342.25it/s]\u001b[A\u001b[A\n",
      "\n",
      " 61%|██████    | 16698/27480 [00:52<00:31, 343.53it/s]\u001b[A\u001b[A\n",
      "\n",
      " 61%|██████    | 16735/27480 [00:52<00:30, 350.09it/s]\u001b[A\u001b[A\n",
      "\n",
      " 61%|██████    | 16771/27480 [00:52<00:30, 349.92it/s]\u001b[A\u001b[A\n",
      "\n",
      " 61%|██████    | 16807/27480 [00:52<00:30, 351.81it/s]\u001b[A\u001b[A\n",
      "\n",
      " 61%|██████▏   | 16843/27480 [00:52<00:30, 350.10it/s]\u001b[A\u001b[A\n",
      "\n",
      " 61%|██████▏   | 16879/27480 [00:52<00:30, 347.89it/s]\u001b[A\u001b[A\n",
      "\n",
      " 62%|██████▏   | 16914/27480 [00:52<00:30, 344.45it/s]\u001b[A\u001b[A\n",
      "\n",
      " 62%|██████▏   | 16949/27480 [00:53<00:30, 345.03it/s]\u001b[A\u001b[A\n",
      "\n",
      " 62%|██████▏   | 16987/27480 [00:53<00:29, 353.87it/s]\u001b[A\u001b[A\n",
      "\n",
      " 62%|██████▏   | 17023/27480 [00:53<00:29, 353.55it/s]\u001b[A\u001b[A\n",
      "\n",
      " 62%|██████▏   | 17059/27480 [00:53<00:29, 354.45it/s]\u001b[A\u001b[A\n",
      "\n",
      " 62%|██████▏   | 17095/27480 [00:53<00:30, 344.81it/s]\u001b[A\u001b[A\n",
      "\n",
      " 62%|██████▏   | 17130/27480 [00:53<00:31, 329.71it/s]\u001b[A\u001b[A\n",
      "\n",
      " 62%|██████▏   | 17164/27480 [00:53<00:31, 328.87it/s]\u001b[A\u001b[A\n",
      "\n",
      " 63%|██████▎   | 17201/27480 [00:53<00:30, 338.33it/s]\u001b[A\u001b[A\n",
      "\n",
      " 63%|██████▎   | 17235/27480 [00:53<00:30, 337.87it/s]\u001b[A\u001b[A\n",
      "\n",
      " 63%|██████▎   | 17269/27480 [00:53<00:30, 337.50it/s]\u001b[A\u001b[A\n",
      "\n",
      " 63%|██████▎   | 17306/27480 [00:54<00:29, 343.73it/s]\u001b[A\u001b[A\n",
      "\n",
      " 63%|██████▎   | 17341/27480 [00:54<00:30, 329.92it/s]\u001b[A\u001b[A\n",
      "\n",
      " 63%|██████▎   | 17375/27480 [00:54<00:33, 305.96it/s]\u001b[A\u001b[A\n",
      "\n",
      " 63%|██████▎   | 17409/27480 [00:54<00:32, 313.66it/s]\u001b[A\u001b[A\n",
      "\n",
      " 63%|██████▎   | 17442/27480 [00:54<00:31, 316.58it/s]\u001b[A\u001b[A\n",
      "\n",
      " 64%|██████▎   | 17474/27480 [00:54<00:32, 310.18it/s]\u001b[A\u001b[A\n",
      "\n",
      " 64%|██████▎   | 17506/27480 [00:54<00:31, 312.18it/s]\u001b[A\u001b[A\n",
      "\n",
      " 64%|██████▍   | 17540/27480 [00:54<00:31, 318.20it/s]\u001b[A\u001b[A\n",
      "\n",
      " 64%|██████▍   | 17575/27480 [00:54<00:30, 323.53it/s]\u001b[A\u001b[A\n",
      "\n",
      " 64%|██████▍   | 17608/27480 [00:55<00:30, 319.73it/s]\u001b[A\u001b[A\n",
      "\n",
      " 64%|██████▍   | 17641/27480 [00:55<00:31, 317.17it/s]\u001b[A\u001b[A\n",
      "\n",
      " 64%|██████▍   | 17673/27480 [00:55<00:31, 311.54it/s]\u001b[A\u001b[A\n",
      "\n",
      " 64%|██████▍   | 17705/27480 [00:55<00:31, 312.16it/s]\u001b[A\u001b[A\n",
      "\n",
      " 65%|██████▍   | 17737/27480 [00:55<00:30, 314.47it/s]\u001b[A\u001b[A\n",
      "\n",
      " 65%|██████▍   | 17769/27480 [00:55<00:32, 299.26it/s]\u001b[A\u001b[A\n",
      "\n",
      " 65%|██████▍   | 17800/27480 [00:55<00:33, 289.69it/s]\u001b[A\u001b[A\n",
      "\n",
      " 65%|██████▍   | 17830/27480 [00:55<00:33, 285.19it/s]\u001b[A\u001b[A\n",
      "\n"
     ]
    },
    {
     "name": "stderr",
     "output_type": "stream",
     "text": [
      " 65%|██████▍   | 17861/27480 [00:55<00:33, 289.78it/s]\u001b[A\u001b[A\n",
      "\n",
      " 65%|██████▌   | 17892/27480 [00:55<00:32, 293.85it/s]\u001b[A\u001b[A\n",
      "\n",
      " 65%|██████▌   | 17923/27480 [00:56<00:32, 297.67it/s]\u001b[A\u001b[A\n",
      "\n",
      " 65%|██████▌   | 17954/27480 [00:56<00:31, 300.37it/s]\u001b[A\u001b[A\n",
      "\n",
      " 65%|██████▌   | 17985/27480 [00:56<00:31, 300.55it/s]\u001b[A\u001b[A\n",
      "\n",
      " 66%|██████▌   | 18018/27480 [00:56<00:30, 307.96it/s]\u001b[A\u001b[A\n",
      "\n",
      " 66%|██████▌   | 18049/27480 [00:56<00:31, 299.65it/s]\u001b[A\u001b[A\n",
      "\n",
      " 66%|██████▌   | 18080/27480 [00:56<00:32, 290.76it/s]\u001b[A\u001b[A\n",
      "\n",
      " 66%|██████▌   | 18110/27480 [00:56<00:32, 287.56it/s]\u001b[A\u001b[A\n",
      "\n",
      " 66%|██████▌   | 18139/27480 [00:56<00:32, 284.86it/s]\u001b[A\u001b[A\n",
      "\n",
      " 66%|██████▌   | 18171/27480 [00:56<00:32, 290.58it/s]\u001b[A\u001b[A\n",
      "\n",
      " 66%|██████▌   | 18203/27480 [00:57<00:31, 297.99it/s]\u001b[A\u001b[A\n",
      "\n",
      " 66%|██████▋   | 18234/27480 [00:57<00:30, 301.49it/s]\u001b[A\u001b[A\n",
      "\n",
      " 66%|██████▋   | 18265/27480 [00:57<00:30, 301.31it/s]\u001b[A\u001b[A\n",
      "\n",
      " 67%|██████▋   | 18298/27480 [00:57<00:29, 307.65it/s]\u001b[A\u001b[A\n",
      "\n",
      " 67%|██████▋   | 18330/27480 [00:57<00:29, 308.58it/s]\u001b[A\u001b[A\n",
      "\n",
      " 67%|██████▋   | 18362/27480 [00:57<00:29, 310.08it/s]\u001b[A\u001b[A\n",
      "\n",
      " 67%|██████▋   | 18395/27480 [00:57<00:28, 315.79it/s]\u001b[A\u001b[A\n",
      "\n",
      " 67%|██████▋   | 18428/27480 [00:57<00:28, 319.03it/s]\u001b[A\u001b[A\n",
      "\n",
      " 67%|██████▋   | 18460/27480 [00:57<00:28, 316.48it/s]\u001b[A\u001b[A\n",
      "\n",
      " 67%|██████▋   | 18493/27480 [00:57<00:28, 317.61it/s]\u001b[A\u001b[A\n",
      "\n",
      " 67%|██████▋   | 18525/27480 [00:58<00:28, 311.82it/s]\u001b[A\u001b[A\n",
      "\n",
      " 68%|██████▊   | 18557/27480 [00:58<00:28, 313.29it/s]\u001b[A\u001b[A\n",
      "\n",
      " 68%|██████▊   | 18589/27480 [00:58<00:28, 309.79it/s]\u001b[A\u001b[A\n",
      "\n",
      " 68%|██████▊   | 18622/27480 [00:58<00:28, 314.71it/s]\u001b[A\u001b[A\n",
      "\n",
      " 68%|██████▊   | 18654/27480 [00:58<00:28, 312.54it/s]\u001b[A\u001b[A\n",
      "\n",
      " 68%|██████▊   | 18686/27480 [00:58<00:28, 312.89it/s]\u001b[A\u001b[A\n",
      "\n",
      " 68%|██████▊   | 18718/27480 [00:58<00:27, 314.10it/s]\u001b[A\u001b[A\n",
      "\n",
      " 68%|██████▊   | 18750/27480 [00:58<00:29, 299.86it/s]\u001b[A\u001b[A\n",
      "\n",
      " 68%|██████▊   | 18781/27480 [00:58<00:29, 295.90it/s]\u001b[A\u001b[A\n",
      "\n",
      " 68%|██████▊   | 18811/27480 [00:59<00:29, 295.52it/s]\u001b[A\u001b[A\n",
      "\n",
      " 69%|██████▊   | 18841/27480 [00:59<00:30, 280.22it/s]\u001b[A\u001b[A\n",
      "\n",
      " 69%|██████▊   | 18870/27480 [00:59<00:30, 280.63it/s]\u001b[A\u001b[A\n",
      "\n",
      " 69%|██████▉   | 18899/27480 [00:59<00:32, 260.46it/s]\u001b[A\u001b[A\n",
      "\n",
      " 69%|██████▉   | 18926/27480 [00:59<00:32, 261.75it/s]\u001b[A\u001b[A\n",
      "\n",
      " 69%|██████▉   | 18955/27480 [00:59<00:31, 269.62it/s]\u001b[A\u001b[A\n",
      "\n",
      " 69%|██████▉   | 18984/27480 [00:59<00:31, 273.07it/s]\u001b[A\u001b[A\n",
      "\n",
      " 69%|██████▉   | 19015/27480 [00:59<00:30, 281.68it/s]\u001b[A\u001b[A\n",
      "\n",
      " 69%|██████▉   | 19044/27480 [00:59<00:29, 282.46it/s]\u001b[A\u001b[A\n",
      "\n",
      " 69%|██████▉   | 19073/27480 [00:59<00:29, 283.85it/s]\u001b[A\u001b[A\n",
      "\n",
      " 70%|██████▉   | 19102/27480 [01:00<00:30, 278.24it/s]\u001b[A\u001b[A\n",
      "\n",
      " 70%|██████▉   | 19130/27480 [01:00<00:30, 273.88it/s]\u001b[A\u001b[A\n",
      "\n",
      " 70%|██████▉   | 19159/27480 [01:00<00:29, 277.73it/s]\u001b[A\u001b[A\n",
      "\n",
      " 70%|██████▉   | 19191/27480 [01:00<00:28, 289.19it/s]\u001b[A\u001b[A\n",
      "\n",
      " 70%|██████▉   | 19222/27480 [01:00<00:28, 294.26it/s]\u001b[A\u001b[A\n",
      "\n",
      " 70%|███████   | 19254/27480 [01:00<00:27, 298.19it/s]\u001b[A\u001b[A\n",
      "\n",
      " 70%|███████   | 19285/27480 [01:00<00:27, 300.74it/s]\u001b[A\u001b[A\n",
      "\n",
      " 70%|███████   | 19316/27480 [01:00<00:28, 291.50it/s]\u001b[A\u001b[A\n",
      "\n",
      " 70%|███████   | 19346/27480 [01:00<00:28, 289.71it/s]\u001b[A\u001b[A\n",
      "\n",
      " 71%|███████   | 19376/27480 [01:01<00:27, 290.17it/s]\u001b[A\u001b[A\n",
      "\n",
      " 71%|███████   | 19410/27480 [01:01<00:26, 303.52it/s]\u001b[A\u001b[A\n",
      "\n",
      " 71%|███████   | 19441/27480 [01:01<00:26, 305.43it/s]\u001b[A\u001b[A\n",
      "\n",
      " 71%|███████   | 19476/27480 [01:01<00:25, 316.73it/s]\u001b[A\u001b[A\n",
      "\n",
      " 71%|███████   | 19510/27480 [01:01<00:24, 321.54it/s]\u001b[A\u001b[A\n",
      "\n",
      " 71%|███████   | 19545/27480 [01:01<00:24, 327.73it/s]\u001b[A\u001b[A\n",
      "\n",
      " 71%|███████   | 19578/27480 [01:01<00:24, 327.43it/s]\u001b[A\u001b[A\n",
      "\n",
      " 71%|███████▏  | 19612/27480 [01:01<00:23, 330.10it/s]\u001b[A\u001b[A\n",
      "\n",
      " 71%|███████▏  | 19646/27480 [01:01<00:25, 307.70it/s]\u001b[A\u001b[A\n",
      "\n",
      " 72%|███████▏  | 19678/27480 [01:01<00:25, 303.32it/s]\u001b[A\u001b[A\n",
      "\n",
      " 72%|███████▏  | 19710/27480 [01:02<00:25, 306.36it/s]\u001b[A\u001b[A\n",
      "\n",
      " 72%|███████▏  | 19742/27480 [01:02<00:25, 309.47it/s]\u001b[A\u001b[A\n",
      "\n",
      " 72%|███████▏  | 19777/27480 [01:02<00:24, 320.58it/s]\u001b[A\u001b[A\n",
      "\n",
      " 72%|███████▏  | 19810/27480 [01:02<00:23, 321.45it/s]\u001b[A\u001b[A\n",
      "\n",
      " 72%|███████▏  | 19846/27480 [01:02<00:23, 329.39it/s]\u001b[A\u001b[A\n",
      "\n",
      " 72%|███████▏  | 19880/27480 [01:02<00:22, 331.57it/s]\u001b[A\u001b[A\n",
      "\n",
      " 72%|███████▏  | 19914/27480 [01:02<00:22, 329.16it/s]\u001b[A\u001b[A\n",
      "\n",
      " 73%|███████▎  | 19947/27480 [01:02<00:23, 322.65it/s]\u001b[A\u001b[A\n",
      "\n",
      " 73%|███████▎  | 19981/27480 [01:02<00:22, 326.76it/s]\u001b[A\u001b[A\n",
      "\n",
      " 73%|███████▎  | 20014/27480 [01:02<00:23, 320.09it/s]\u001b[A\u001b[A\n",
      "\n",
      " 73%|███████▎  | 20048/27480 [01:03<00:22, 323.92it/s]\u001b[A\u001b[A\n",
      "\n",
      " 73%|███████▎  | 20081/27480 [01:03<00:22, 322.85it/s]\u001b[A\u001b[A\n",
      "\n",
      " 73%|███████▎  | 20114/27480 [01:03<00:23, 315.64it/s]\u001b[A\u001b[A\n",
      "\n",
      " 73%|███████▎  | 20146/27480 [01:03<00:23, 312.30it/s]\u001b[A\u001b[A\n",
      "\n",
      " 73%|███████▎  | 20178/27480 [01:03<00:23, 310.90it/s]\u001b[A\u001b[A\n",
      "\n",
      " 74%|███████▎  | 20210/27480 [01:03<00:23, 313.58it/s]\u001b[A\u001b[A\n",
      "\n",
      " 74%|███████▎  | 20242/27480 [01:03<00:23, 313.65it/s]\u001b[A\u001b[A\n",
      "\n",
      " 74%|███████▍  | 20275/27480 [01:03<00:22, 316.52it/s]\u001b[A\u001b[A\n",
      "\n",
      " 74%|███████▍  | 20307/27480 [01:03<00:22, 315.70it/s]\u001b[A\u001b[A\n",
      "\n",
      " 74%|███████▍  | 20339/27480 [01:04<00:23, 306.96it/s]\u001b[A\u001b[A\n",
      "\n",
      " 74%|███████▍  | 20370/27480 [01:04<00:23, 297.20it/s]\u001b[A\u001b[A\n",
      "\n",
      " 74%|███████▍  | 20400/27480 [01:04<00:23, 296.27it/s]\u001b[A\u001b[A\n",
      "\n",
      " 74%|███████▍  | 20431/27480 [01:04<00:23, 299.39it/s]\u001b[A\u001b[A\n",
      "\n",
      " 74%|███████▍  | 20462/27480 [01:04<00:23, 299.89it/s]\u001b[A\u001b[A\n",
      "\n",
      " 75%|███████▍  | 20493/27480 [01:04<00:23, 301.97it/s]\u001b[A\u001b[A\n",
      "\n",
      " 75%|███████▍  | 20525/27480 [01:04<00:22, 304.53it/s]\u001b[A\u001b[A\n",
      "\n",
      " 75%|███████▍  | 20556/27480 [01:04<00:22, 304.32it/s]\u001b[A\u001b[A\n",
      "\n",
      " 75%|███████▍  | 20587/27480 [01:04<00:22, 303.34it/s]\u001b[A\u001b[A\n",
      "\n",
      " 75%|███████▌  | 20619/27480 [01:04<00:22, 307.24it/s]\u001b[A\u001b[A\n",
      "\n",
      " 75%|███████▌  | 20651/27480 [01:05<00:22, 310.08it/s]\u001b[A\u001b[A\n",
      "\n",
      " 75%|███████▌  | 20684/27480 [01:05<00:21, 314.86it/s]\u001b[A\u001b[A\n",
      "\n",
      " 75%|███████▌  | 20717/27480 [01:05<00:21, 317.45it/s]\u001b[A\u001b[A\n",
      "\n",
      " 76%|███████▌  | 20750/27480 [01:05<00:20, 321.07it/s]\u001b[A\u001b[A\n",
      "\n",
      " 76%|███████▌  | 20784/27480 [01:05<00:20, 325.63it/s]\u001b[A\u001b[A\n",
      "\n",
      " 76%|███████▌  | 20820/27480 [01:05<00:19, 335.20it/s]\u001b[A\u001b[A\n",
      "\n",
      " 76%|███████▌  | 20854/27480 [01:05<00:19, 334.63it/s]\u001b[A\u001b[A\n",
      "\n",
      " 76%|███████▌  | 20888/27480 [01:05<00:19, 334.25it/s]\u001b[A\u001b[A\n",
      "\n",
      " 76%|███████▌  | 20923/27480 [01:05<00:19, 335.89it/s]\u001b[A\u001b[A\n",
      "\n",
      " 76%|███████▋  | 20957/27480 [01:05<00:19, 335.15it/s]\u001b[A\u001b[A\n",
      "\n",
      " 76%|███████▋  | 20991/27480 [01:06<00:19, 325.91it/s]\u001b[A\u001b[A\n",
      "\n",
      " 77%|███████▋  | 21024/27480 [01:06<00:20, 317.68it/s]\u001b[A\u001b[A\n",
      "\n",
      " 77%|███████▋  | 21056/27480 [01:06<00:20, 317.42it/s]\u001b[A\u001b[A\n",
      "\n",
      " 77%|███████▋  | 21091/27480 [01:06<00:19, 326.54it/s]\u001b[A\u001b[A\n",
      "\n",
      " 77%|███████▋  | 21126/27480 [01:06<00:19, 332.33it/s]\u001b[A\u001b[A\n",
      "\n",
      " 77%|███████▋  | 21160/27480 [01:06<00:19, 327.78it/s]\u001b[A\u001b[A\n",
      "\n",
      " 77%|███████▋  | 21193/27480 [01:06<00:19, 324.57it/s]\u001b[A\u001b[A\n",
      "\n",
      " 77%|███████▋  | 21226/27480 [01:06<00:19, 319.55it/s]\u001b[A\u001b[A\n",
      "\n",
      " 77%|███████▋  | 21261/27480 [01:06<00:19, 325.37it/s]\u001b[A\u001b[A\n",
      "\n",
      " 77%|███████▋  | 21294/27480 [01:07<00:19, 318.27it/s]\u001b[A\u001b[A\n",
      "\n",
      " 78%|███████▊  | 21326/27480 [01:07<00:19, 316.86it/s]\u001b[A\u001b[A\n",
      "\n",
      " 78%|███████▊  | 21358/27480 [01:07<00:19, 307.71it/s]\u001b[A\u001b[A\n",
      "\n",
      " 78%|███████▊  | 21390/27480 [01:07<00:19, 310.39it/s]\u001b[A\u001b[A\n",
      "\n",
      " 78%|███████▊  | 21422/27480 [01:07<00:19, 310.48it/s]\u001b[A\u001b[A\n",
      "\n",
      " 78%|███████▊  | 21457/27480 [01:07<00:18, 320.48it/s]\u001b[A\u001b[A\n",
      "\n",
      " 78%|███████▊  | 21491/27480 [01:07<00:18, 325.18it/s]\u001b[A\u001b[A\n",
      "\n",
      " 78%|███████▊  | 21526/27480 [01:07<00:18, 330.35it/s]\u001b[A\u001b[A\n",
      "\n",
      " 78%|███████▊  | 21562/27480 [01:07<00:17, 335.91it/s]\u001b[A\u001b[A\n",
      "\n",
      " 79%|███████▊  | 21596/27480 [01:07<00:17, 332.15it/s]\u001b[A\u001b[A\n",
      "\n",
      " 79%|███████▊  | 21630/27480 [01:08<00:18, 317.60it/s]\u001b[A\u001b[A\n",
      "\n",
      " 79%|███████▉  | 21662/27480 [01:08<00:18, 314.56it/s]\u001b[A\u001b[A\n",
      "\n",
      " 79%|███████▉  | 21694/27480 [01:08<00:18, 310.64it/s]\u001b[A\u001b[A\n",
      "\n",
      " 79%|███████▉  | 21726/27480 [01:08<00:18, 309.76it/s]\u001b[A\u001b[A\n",
      "\n",
      " 79%|███████▉  | 21758/27480 [01:08<00:18, 308.24it/s]\u001b[A\u001b[A\n",
      "\n",
      " 79%|███████▉  | 21789/27480 [01:08<00:18, 307.85it/s]\u001b[A\u001b[A\n",
      "\n",
      " 79%|███████▉  | 21820/27480 [01:08<00:18, 299.55it/s]\u001b[A\u001b[A\n",
      "\n",
      " 80%|███████▉  | 21851/27480 [01:08<00:18, 300.01it/s]\u001b[A\u001b[A\n",
      "\n",
      " 80%|███████▉  | 21882/27480 [01:08<00:18, 301.13it/s]\u001b[A\u001b[A\n",
      "\n",
      " 80%|███████▉  | 21915/27480 [01:09<00:18, 306.70it/s]\u001b[A\u001b[A\n",
      "\n",
      " 80%|███████▉  | 21946/27480 [01:09<00:18, 304.92it/s]\u001b[A\u001b[A\n",
      "\n",
      " 80%|███████▉  | 21977/27480 [01:09<00:19, 288.49it/s]\u001b[A\u001b[A\n",
      "\n",
      " 80%|████████  | 22007/27480 [01:09<00:19, 278.83it/s]\u001b[A\u001b[A\n",
      "\n",
      " 80%|████████  | 22041/27480 [01:09<00:18, 293.19it/s]\u001b[A\u001b[A\n",
      "\n",
      " 80%|████████  | 22074/27480 [01:09<00:17, 302.51it/s]\u001b[A\u001b[A\n",
      "\n",
      " 80%|████████  | 22105/27480 [01:09<00:17, 300.28it/s]\u001b[A\u001b[A\n",
      "\n",
      " 81%|████████  | 22137/27480 [01:09<00:17, 305.07it/s]\u001b[A\u001b[A\n",
      "\n",
      " 81%|████████  | 22168/27480 [01:09<00:17, 304.75it/s]\u001b[A\u001b[A\n",
      "\n",
      " 81%|████████  | 22204/27480 [01:09<00:16, 317.74it/s]\u001b[A\u001b[A\n",
      "\n",
      " 81%|████████  | 22240/27480 [01:10<00:15, 327.54it/s]\u001b[A\u001b[A\n",
      "\n",
      " 81%|████████  | 22275/27480 [01:10<00:15, 332.07it/s]\u001b[A\u001b[A\n",
      "\n",
      " 81%|████████  | 22311/27480 [01:10<00:15, 338.06it/s]\u001b[A\u001b[A\n",
      "\n",
      " 81%|████████▏ | 22347/27480 [01:10<00:14, 343.41it/s]\u001b[A\u001b[A\n",
      "\n",
      " 81%|████████▏ | 22383/27480 [01:10<00:14, 346.17it/s]\u001b[A\u001b[A\n",
      "\n",
      " 82%|████████▏ | 22418/27480 [01:10<00:14, 342.26it/s]\u001b[A\u001b[A\n",
      "\n",
      " 82%|████████▏ | 22454/27480 [01:10<00:14, 347.36it/s]\u001b[A\u001b[A\n",
      "\n",
      " 82%|████████▏ | 22489/27480 [01:10<00:14, 346.12it/s]\u001b[A\u001b[A\n",
      "\n",
      " 82%|████████▏ | 22524/27480 [01:10<00:14, 338.18it/s]\u001b[A\u001b[A\n",
      "\n",
      " 82%|████████▏ | 22558/27480 [01:10<00:15, 325.16it/s]\u001b[A\u001b[A\n",
      "\n",
      " 82%|████████▏ | 22591/27480 [01:11<00:15, 322.73it/s]\u001b[A\u001b[A\n",
      "\n",
      " 82%|████████▏ | 22624/27480 [01:11<00:15, 317.38it/s]\u001b[A\u001b[A\n",
      "\n",
      " 82%|████████▏ | 22656/27480 [01:11<00:15, 305.43it/s]\u001b[A\u001b[A\n",
      "\n",
      " 83%|████████▎ | 22687/27480 [01:11<00:16, 294.55it/s]\u001b[A\u001b[A\n",
      "\n",
      " 83%|████████▎ | 22718/27480 [01:11<00:16, 297.30it/s]\u001b[A\u001b[A\n",
      "\n",
      " 83%|████████▎ | 22748/27480 [01:11<00:15, 297.19it/s]\u001b[A\u001b[A\n",
      "\n",
      " 83%|████████▎ | 22780/27480 [01:11<00:15, 301.08it/s]\u001b[A\u001b[A\n",
      "\n",
      " 83%|████████▎ | 22814/27480 [01:11<00:15, 309.27it/s]\u001b[A\u001b[A\n",
      "\n",
      " 83%|████████▎ | 22846/27480 [01:11<00:14, 309.68it/s]\u001b[A\u001b[A\n",
      "\n",
      " 83%|████████▎ | 22879/27480 [01:12<00:14, 315.51it/s]\u001b[A\u001b[A\n",
      "\n",
      " 83%|████████▎ | 22911/27480 [01:12<00:14, 313.16it/s]\u001b[A\u001b[A\n",
      "\n",
      " 83%|████████▎ | 22943/27480 [01:12<00:14, 307.90it/s]\u001b[A\u001b[A\n",
      "\n",
      " 84%|████████▎ | 22974/27480 [01:12<00:15, 297.00it/s]\u001b[A\u001b[A\n",
      "\n",
      " 84%|████████▎ | 23004/27480 [01:12<00:15, 290.93it/s]\u001b[A\u001b[A\n",
      "\n",
      " 84%|████████▍ | 23036/27480 [01:12<00:14, 296.62it/s]\u001b[A\u001b[A\n",
      "\n",
      " 84%|████████▍ | 23068/27480 [01:12<00:14, 303.27it/s]\u001b[A\u001b[A\n",
      "\n",
      " 84%|████████▍ | 23099/27480 [01:12<00:14, 304.35it/s]\u001b[A\u001b[A\n",
      "\n",
      " 84%|████████▍ | 23133/27480 [01:12<00:13, 313.33it/s]\u001b[A\u001b[A\n",
      "\n",
      " 84%|████████▍ | 23167/27480 [01:12<00:13, 317.33it/s]\u001b[A\u001b[A\n",
      "\n",
      " 84%|████████▍ | 23199/27480 [01:13<00:13, 317.15it/s]\u001b[A\u001b[A\n",
      "\n",
      " 85%|████████▍ | 23233/27480 [01:13<00:13, 320.93it/s]\u001b[A\u001b[A\n",
      "\n",
      " 85%|████████▍ | 23266/27480 [01:13<00:13, 320.76it/s]\u001b[A\u001b[A\n",
      "\n",
      " 85%|████████▍ | 23299/27480 [01:13<00:13, 316.96it/s]\u001b[A\u001b[A\n",
      "\n",
      " 85%|████████▍ | 23331/27480 [01:13<00:13, 316.92it/s]\u001b[A\u001b[A\n",
      "\n",
      " 85%|████████▌ | 23363/27480 [01:13<00:13, 308.64it/s]\u001b[A\u001b[A\n",
      "\n",
      " 85%|████████▌ | 23394/27480 [01:13<00:13, 307.24it/s]\u001b[A\u001b[A\n",
      "\n",
      " 85%|████████▌ | 23425/27480 [01:13<00:13, 308.06it/s]\u001b[A\u001b[A\n",
      "\n",
      " 85%|████████▌ | 23459/27480 [01:13<00:12, 314.36it/s]\u001b[A\u001b[A\n",
      "\n",
      " 85%|████████▌ | 23491/27480 [01:14<00:12, 314.17it/s]\u001b[A\u001b[A\n",
      "\n",
      " 86%|████████▌ | 23523/27480 [01:14<00:12, 313.08it/s]\u001b[A\u001b[A\n",
      "\n",
      " 86%|████████▌ | 23555/27480 [01:14<00:13, 301.78it/s]\u001b[A\u001b[A\n",
      "\n",
      " 86%|████████▌ | 23586/27480 [01:14<00:12, 301.51it/s]\u001b[A\u001b[A\n",
      "\n",
      " 86%|████████▌ | 23617/27480 [01:14<00:12, 299.63it/s]\u001b[A\u001b[A\n",
      "\n",
      " 86%|████████▌ | 23648/27480 [01:14<00:12, 297.44it/s]\u001b[A\u001b[A\n",
      "\n",
      " 86%|████████▌ | 23678/27480 [01:14<00:12, 297.29it/s]\u001b[A\u001b[A\n",
      "\n",
      " 86%|████████▋ | 23711/27480 [01:14<00:12, 303.02it/s]\u001b[A\u001b[A\n",
      "\n",
      " 86%|████████▋ | 23744/27480 [01:14<00:12, 308.89it/s]\u001b[A\u001b[A\n",
      "\n",
      " 87%|████████▋ | 23776/27480 [01:14<00:11, 311.24it/s]\u001b[A\u001b[A\n",
      "\n",
      " 87%|████████▋ | 23808/27480 [01:15<00:12, 299.71it/s]\u001b[A\u001b[A\n",
      "\n",
      " 87%|████████▋ | 23839/27480 [01:15<00:12, 295.82it/s]\u001b[A\u001b[A\n",
      "\n",
      " 87%|████████▋ | 23869/27480 [01:15<00:12, 293.99it/s]\u001b[A\u001b[A\n",
      "\n",
      " 87%|████████▋ | 23899/27480 [01:15<00:12, 293.17it/s]\u001b[A\u001b[A\n",
      "\n",
      " 87%|████████▋ | 23929/27480 [01:15<00:12, 290.89it/s]\u001b[A\u001b[A\n",
      "\n",
      " 87%|████████▋ | 23959/27480 [01:15<00:12, 281.19it/s]\u001b[A\u001b[A\n",
      "\n",
      " 87%|████████▋ | 23989/27480 [01:15<00:12, 285.76it/s]\u001b[A\u001b[A\n",
      "\n",
      " 87%|████████▋ | 24020/27480 [01:15<00:11, 290.97it/s]\u001b[A\u001b[A\n",
      "\n",
      " 88%|████████▊ | 24050/27480 [01:15<00:11, 291.06it/s]\u001b[A\u001b[A\n",
      "\n",
      " 88%|████████▊ | 24080/27480 [01:16<00:11, 292.83it/s]\u001b[A\u001b[A\n",
      "\n",
      " 88%|████████▊ | 24110/27480 [01:16<00:11, 287.32it/s]\u001b[A\u001b[A\n",
      "\n",
      " 88%|████████▊ | 24139/27480 [01:16<00:11, 280.55it/s]\u001b[A\u001b[A\n",
      "\n",
      " 88%|████████▊ | 24173/27480 [01:16<00:11, 294.58it/s]\u001b[A\u001b[A\n",
      "\n",
      " 88%|████████▊ | 24205/27480 [01:16<00:10, 300.92it/s]\u001b[A\u001b[A\n",
      "\n",
      " 88%|████████▊ | 24236/27480 [01:16<00:10, 303.56it/s]\u001b[A\u001b[A\n",
      "\n",
      " 88%|████████▊ | 24267/27480 [01:16<00:10, 305.46it/s]\u001b[A\u001b[A\n",
      "\n",
      " 88%|████████▊ | 24301/27480 [01:16<00:10, 315.06it/s]\u001b[A\u001b[A\n",
      "\n",
      " 89%|████████▊ | 24335/27480 [01:16<00:09, 322.14it/s]\u001b[A\u001b[A\n",
      "\n",
      " 89%|████████▊ | 24371/27480 [01:16<00:09, 330.81it/s]\u001b[A\u001b[A\n",
      "\n",
      " 89%|████████▉ | 24405/27480 [01:17<00:09, 324.93it/s]\u001b[A\u001b[A\n",
      "\n",
      " 89%|████████▉ | 24439/27480 [01:17<00:09, 328.33it/s]\u001b[A\u001b[A\n",
      "\n",
      " 89%|████████▉ | 24472/27480 [01:17<00:09, 325.91it/s]\u001b[A\u001b[A\n",
      "\n",
      " 89%|████████▉ | 24507/27480 [01:17<00:08, 331.83it/s]\u001b[A\u001b[A\n",
      "\n",
      " 89%|████████▉ | 24541/27480 [01:17<00:09, 317.39it/s]\u001b[A\u001b[A\n",
      "\n",
      " 89%|████████▉ | 24573/27480 [01:17<00:09, 302.85it/s]\u001b[A\u001b[A\n",
      "\n",
      " 90%|████████▉ | 24604/27480 [01:17<00:09, 290.36it/s]\u001b[A\u001b[A\n",
      "\n",
      " 90%|████████▉ | 24639/27480 [01:17<00:09, 304.40it/s]\u001b[A\u001b[A\n",
      "\n",
      " 90%|████████▉ | 24673/27480 [01:17<00:08, 313.44it/s]\u001b[A\u001b[A\n",
      "\n",
      " 90%|████████▉ | 24706/27480 [01:18<00:08, 316.36it/s]\u001b[A\u001b[A\n",
      "\n",
      " 90%|█████████ | 24738/27480 [01:18<00:08, 310.10it/s]\u001b[A\u001b[A\n",
      "\n",
      " 90%|█████████ | 24770/27480 [01:18<00:08, 312.06it/s]\u001b[A\u001b[A\n",
      "\n",
      " 90%|█████████ | 24802/27480 [01:18<00:08, 310.73it/s]\u001b[A\u001b[A\n",
      "\n",
      " 90%|█████████ | 24834/27480 [01:18<00:08, 311.66it/s]\u001b[A\u001b[A\n",
      "\n",
      " 90%|█████████ | 24866/27480 [01:18<00:08, 314.08it/s]\u001b[A\u001b[A\n",
      "\n",
      " 91%|█████████ | 24899/27480 [01:18<00:08, 315.98it/s]\u001b[A\u001b[A\n",
      "\n",
      " 91%|█████████ | 24933/27480 [01:18<00:07, 319.19it/s]\u001b[A\u001b[A\n",
      "\n",
      " 91%|█████████ | 24965/27480 [01:18<00:07, 317.49it/s]\u001b[A\u001b[A\n",
      "\n",
      " 91%|█████████ | 24999/27480 [01:18<00:07, 322.08it/s]\u001b[A\u001b[A\n",
      "\n",
      " 91%|█████████ | 25033/27480 [01:19<00:07, 325.37it/s]\u001b[A\u001b[A\n",
      "\n",
      " 91%|█████████ | 25070/27480 [01:19<00:07, 334.84it/s]\u001b[A\u001b[A\n",
      "\n",
      " 91%|█████████▏| 25106/27480 [01:19<00:06, 340.11it/s]\u001b[A\u001b[A\n",
      "\n",
      " 91%|█████████▏| 25141/27480 [01:19<00:06, 338.99it/s]\u001b[A\u001b[A\n",
      "\n",
      " 92%|█████████▏| 25175/27480 [01:19<00:06, 339.29it/s]\u001b[A\u001b[A\n",
      "\n",
      " 92%|█████████▏| 25210/27480 [01:19<00:06, 340.44it/s]\u001b[A\u001b[A\n",
      "\n",
      " 92%|█████████▏| 25245/27480 [01:19<00:06, 331.58it/s]\u001b[A\u001b[A\n",
      "\n",
      " 92%|█████████▏| 25279/27480 [01:19<00:07, 311.10it/s]\u001b[A\u001b[A\n",
      "\n",
      " 92%|█████████▏| 25313/27480 [01:19<00:06, 316.57it/s]\u001b[A\u001b[A\n",
      "\n",
      " 92%|█████████▏| 25345/27480 [01:19<00:06, 317.58it/s]\u001b[A\u001b[A\n",
      "\n",
      " 92%|█████████▏| 25377/27480 [01:20<00:06, 317.40it/s]\u001b[A\u001b[A\n",
      "\n",
      " 92%|█████████▏| 25409/27480 [01:20<00:06, 318.17it/s]\u001b[A\u001b[A\n",
      "\n",
      " 93%|█████████▎| 25441/27480 [01:20<00:06, 318.09it/s]\u001b[A\u001b[A\n",
      "\n",
      " 93%|█████████▎| 25473/27480 [01:20<00:06, 315.82it/s]\u001b[A\u001b[A\n",
      "\n",
      " 93%|█████████▎| 25505/27480 [01:20<00:06, 311.52it/s]\u001b[A\u001b[A\n",
      "\n",
      " 93%|█████████▎| 25537/27480 [01:20<00:06, 299.89it/s]\u001b[A\u001b[A\n",
      "\n",
      " 93%|█████████▎| 25568/27480 [01:20<00:06, 301.97it/s]\u001b[A\u001b[A\n",
      "\n",
      " 93%|█████████▎| 25599/27480 [01:20<00:06, 299.92it/s]\u001b[A\u001b[A\n",
      "\n",
      " 93%|█████████▎| 25630/27480 [01:20<00:06, 302.87it/s]\u001b[A\u001b[A\n",
      "\n",
      " 93%|█████████▎| 25661/27480 [01:21<00:06, 297.09it/s]\u001b[A\u001b[A\n",
      "\n",
      " 93%|█████████▎| 25693/27480 [01:21<00:05, 303.58it/s]\u001b[A\u001b[A\n",
      "\n",
      " 94%|█████████▎| 25724/27480 [01:21<00:05, 304.61it/s]\u001b[A\u001b[A\n",
      "\n",
      " 94%|█████████▎| 25755/27480 [01:21<00:05, 304.40it/s]\u001b[A\u001b[A\n",
      "\n",
      " 94%|█████████▍| 25788/27480 [01:21<00:05, 310.74it/s]\u001b[A\u001b[A\n",
      "\n",
      " 94%|█████████▍| 25820/27480 [01:21<00:05, 313.46it/s]\u001b[A\u001b[A\n",
      "\n",
      " 94%|█████████▍| 25853/27480 [01:21<00:05, 317.36it/s]\u001b[A\u001b[A\n",
      "\n",
      " 94%|█████████▍| 25885/27480 [01:21<00:05, 312.55it/s]\u001b[A\u001b[A\n",
      "\n",
      " 94%|█████████▍| 25917/27480 [01:21<00:05, 308.38it/s]\u001b[A\u001b[A\n",
      "\n",
      " 94%|█████████▍| 25948/27480 [01:21<00:05, 297.31it/s]\u001b[A\u001b[A\n",
      "\n",
      " 95%|█████████▍| 25979/27480 [01:22<00:04, 300.97it/s]\u001b[A\u001b[A\n",
      "\n",
      " 95%|█████████▍| 26010/27480 [01:22<00:04, 301.89it/s]\u001b[A\u001b[A\n",
      "\n",
      " 95%|█████████▍| 26042/27480 [01:22<00:04, 306.19it/s]\u001b[A\u001b[A\n",
      "\n",
      " 95%|█████████▍| 26076/27480 [01:22<00:04, 314.76it/s]\u001b[A\u001b[A\n",
      "\n",
      " 95%|█████████▌| 26109/27480 [01:22<00:04, 318.92it/s]\u001b[A\u001b[A\n",
      "\n",
      " 95%|█████████▌| 26144/27480 [01:22<00:04, 327.62it/s]\u001b[A\u001b[A\n",
      "\n",
      " 95%|█████████▌| 26180/27480 [01:22<00:03, 334.82it/s]\u001b[A\u001b[A\n",
      "\n",
      " 95%|█████████▌| 26214/27480 [01:22<00:03, 318.44it/s]\u001b[A\u001b[A\n",
      "\n",
      " 96%|█████████▌| 26247/27480 [01:22<00:03, 311.76it/s]\u001b[A\u001b[A\n",
      "\n",
      " 96%|█████████▌| 26279/27480 [01:23<00:03, 304.32it/s]\u001b[A\u001b[A\n",
      "\n",
      " 96%|█████████▌| 26311/27480 [01:23<00:03, 308.86it/s]\u001b[A\u001b[A\n",
      "\n",
      " 96%|█████████▌| 26343/27480 [01:23<00:03, 310.31it/s]\u001b[A\u001b[A\n",
      "\n",
      " 96%|█████████▌| 26375/27480 [01:23<00:03, 312.24it/s]\u001b[A\u001b[A\n",
      "\n"
     ]
    },
    {
     "name": "stderr",
     "output_type": "stream",
     "text": [
      " 96%|█████████▌| 26407/27480 [01:23<00:03, 306.40it/s]\u001b[A\u001b[A\n",
      "\n",
      " 96%|█████████▌| 26440/27480 [01:23<00:03, 307.88it/s]\u001b[A\u001b[A\n",
      "\n",
      " 96%|█████████▋| 26471/27480 [01:23<00:03, 303.98it/s]\u001b[A\u001b[A\n",
      "\n",
      " 96%|█████████▋| 26503/27480 [01:23<00:03, 306.84it/s]\u001b[A\u001b[A\n",
      "\n",
      " 97%|█████████▋| 26535/27480 [01:23<00:03, 309.74it/s]\u001b[A\u001b[A\n",
      "\n",
      " 97%|█████████▋| 26567/27480 [01:23<00:02, 304.72it/s]\u001b[A\u001b[A\n",
      "\n",
      " 97%|█████████▋| 26600/27480 [01:24<00:02, 310.11it/s]\u001b[A\u001b[A\n",
      "\n",
      " 97%|█████████▋| 26635/27480 [01:24<00:02, 318.46it/s]\u001b[A\u001b[A\n",
      "\n",
      " 97%|█████████▋| 26668/27480 [01:24<00:02, 321.84it/s]\u001b[A\u001b[A\n",
      "\n",
      " 97%|█████████▋| 26701/27480 [01:24<00:02, 323.29it/s]\u001b[A\u001b[A\n",
      "\n",
      " 97%|█████████▋| 26734/27480 [01:24<00:02, 319.64it/s]\u001b[A\u001b[A\n",
      "\n",
      " 97%|█████████▋| 26769/27480 [01:24<00:02, 326.31it/s]\u001b[A\u001b[A\n",
      "\n",
      " 98%|█████████▊| 26802/27480 [01:24<00:02, 324.51it/s]\u001b[A\u001b[A\n",
      "\n",
      " 98%|█████████▊| 26838/27480 [01:24<00:01, 332.58it/s]\u001b[A\u001b[A\n",
      "\n",
      " 98%|█████████▊| 26872/27480 [01:24<00:01, 327.04it/s]\u001b[A\u001b[A\n",
      "\n",
      " 98%|█████████▊| 26905/27480 [01:24<00:01, 321.22it/s]\u001b[A\u001b[A\n",
      "\n",
      " 98%|█████████▊| 26938/27480 [01:25<00:01, 317.23it/s]\u001b[A\u001b[A\n",
      "\n",
      " 98%|█████████▊| 26971/27480 [01:25<00:01, 320.03it/s]\u001b[A\u001b[A\n",
      "\n",
      " 98%|█████████▊| 27004/27480 [01:25<00:01, 322.95it/s]\u001b[A\u001b[A\n",
      "\n",
      " 98%|█████████▊| 27040/27480 [01:25<00:01, 330.52it/s]\u001b[A\u001b[A\n",
      "\n",
      " 99%|█████████▊| 27074/27480 [01:25<00:01, 330.36it/s]\u001b[A\u001b[A\n",
      "\n",
      " 99%|█████████▊| 27109/27480 [01:25<00:01, 335.09it/s]\u001b[A\u001b[A\n",
      "\n",
      " 99%|█████████▉| 27143/27480 [01:25<00:01, 335.51it/s]\u001b[A\u001b[A\n",
      "\n",
      " 99%|█████████▉| 27178/27480 [01:25<00:00, 337.77it/s]\u001b[A\u001b[A\n",
      "\n",
      " 99%|█████████▉| 27212/27480 [01:25<00:00, 337.42it/s]\u001b[A\u001b[A\n",
      "\n",
      " 99%|█████████▉| 27246/27480 [01:26<00:00, 334.20it/s]\u001b[A\u001b[A\n",
      "\n",
      " 99%|█████████▉| 27280/27480 [01:26<00:00, 332.03it/s]\u001b[A\u001b[A\n",
      "\n",
      " 99%|█████████▉| 27314/27480 [01:26<00:00, 331.44it/s]\u001b[A\u001b[A\n",
      "\n",
      "100%|█████████▉| 27348/27480 [01:26<00:00, 318.93it/s]\u001b[A\u001b[A\n",
      "\n",
      "100%|█████████▉| 27381/27480 [01:26<00:00, 321.23it/s]\u001b[A\u001b[A\n",
      "\n",
      "100%|█████████▉| 27414/27480 [01:26<00:00, 320.01it/s]\u001b[A\u001b[A\n",
      "\n",
      "100%|█████████▉| 27447/27480 [01:26<00:00, 318.27it/s]\u001b[A\u001b[A\n",
      "\n",
      "100%|██████████| 27480/27480 [01:26<00:00, 316.76it/s]\u001b[A\u001b[A"
     ]
    },
    {
     "name": "stdout",
     "output_type": "stream",
     "text": [
      "Average Jaccard Score is 0.7238812488363049\n"
     ]
    },
    {
     "name": "stderr",
     "output_type": "stream",
     "text": [
      "\n"
     ]
    }
   ],
   "source": [
    "def jaccard(str1, str2): \n",
    "    a = set(str1.lower().split()) \n",
    "    b = set(str2.lower().split())\n",
    "    c = a.intersection(b)\n",
    "    return float(len(c)) / (len(a) + len(b) - len(c))\n",
    "\n",
    "\n",
    "if TRAINED_MODELS_BASE_PATH is not None:\n",
    "    print(\"Loading Models  from \", TRAINED_MODELS_BASE_PATH)\n",
    "    model_pos = spacy.load(TRAINED_MODELS_BASE_PATH + 'model_pos')\n",
    "    model_neg = spacy.load(TRAINED_MODELS_BASE_PATH + 'model_neg')\n",
    "    model_neu = spacy.load(TRAINED_MODELS_BASE_PATH + 'model_neu')\n",
    "        \n",
    "    jaccard_score = 0\n",
    "    for index, row in tqdm(train_df.iterrows(), total=train_df.shape[0]):\n",
    "        text = row.text\n",
    "        if row.sentiment == 'neutral':\n",
    "            jaccard_score += jaccard(predict_entities(text, model_neu), row.selected_text)\n",
    "        elif row.sentiment == 'positive':\n",
    "            jaccard_score += jaccard(predict_entities(text, model_pos), row.selected_text)\n",
    "        else:\n",
    "            jaccard_score += jaccard(predict_entities(text, model_neg), row.selected_text) \n",
    "        \n",
    "    print(f'Average Jaccard Score is {jaccard_score / train_df.shape[0]}') "
   ]
  },
  {
   "cell_type": "code",
   "execution_count": 35,
   "metadata": {},
   "outputs": [],
   "source": [
    "BASE_PATH = 'C:/Users/naras/OneDrive/Documents/'\n",
    "MODELS_BASE_PATH = 'C:/Users/naras/OneDrive/Documents/models/'\n",
    "MODELS_BASE_PATH2 = 'C:/Users/naras/OneDrive/Documents/models/'\n",
    "\n",
    "test_df = pd.read_csv( BASE_PATH + 'val_data.csv')\n",
    "submission_df = pd.read_csv( BASE_PATH + 'test_data.csv')"
   ]
  },
  {
   "cell_type": "markdown",
   "metadata": {},
   "source": [
    "### 7. Load the Tarined Models"
   ]
  },
  {
   "cell_type": "code",
   "execution_count": 36,
   "metadata": {},
   "outputs": [],
   "source": [
    "def predict_entities(text, model):\n",
    "    doc = model(text)\n",
    "    ent_array = []\n",
    "    for ent in doc.ents:\n",
    "        start = text.find(ent.text)\n",
    "        end = start + len(ent.text)\n",
    "        new_int = [start, end, ent.label_]\n",
    "        if new_int not in ent_array:\n",
    "            ent_array.append([start, end, ent.label_])\n",
    "    selected_text = text[ent_array[0][0]: ent_array[0][1]] if len(ent_array) > 0 else text\n",
    "    return selected_text"
   ]
  },
  {
   "cell_type": "markdown",
   "metadata": {},
   "source": [
    "### 8. Predict on the test dataset"
   ]
  },
  {
   "cell_type": "code",
   "execution_count": 41,
   "metadata": {},
   "outputs": [
    {
     "name": "stdout",
     "output_type": "stream",
     "text": [
      "Loading Models  from  C:/Users/naras/OneDrive/Documents/models/\n"
     ]
    }
   ],
   "source": [
    "selected_texts = []\n",
    "\n",
    "if MODELS_BASE_PATH is not None:\n",
    "    print(\"Loading Models  from \", MODELS_BASE_PATH)\n",
    "    model_pos = spacy.load(MODELS_BASE_PATH + 'model_pos')\n",
    "    model_neg = spacy.load(MODELS_BASE_PATH2 + 'model_neg')\n",
    "    model_neu = spacy.load(MODELS_BASE_PATH + 'model_neu')\n",
    "        \n",
    "    for index, row in test_df.iterrows():\n",
    "        text = row.text\n",
    "        output_str = \"\"\n",
    "        if row.sentiment == 'neutral' or len(text.split()) < 4:\n",
    "#             output_str = text\n",
    "#             selected_texts.append(predict_entities(text, model_neu))\n",
    "            selected_texts.append(text)\n",
    "        elif row.sentiment == 'positive':\n",
    "            selected_texts.append(predict_entities(text, model_pos))\n",
    "        else:\n",
    "            selected_texts.append(predict_entities(text, model_neg))\n",
    "        \n",
    "test_df['selected_text'] = selected_texts"
   ]
  },
  {
   "cell_type": "code",
   "execution_count": 42,
   "metadata": {},
   "outputs": [
    {
     "data": {
      "text/html": [
       "<div>\n",
       "<style scoped>\n",
       "    .dataframe tbody tr th:only-of-type {\n",
       "        vertical-align: middle;\n",
       "    }\n",
       "\n",
       "    .dataframe tbody tr th {\n",
       "        vertical-align: top;\n",
       "    }\n",
       "\n",
       "    .dataframe thead th {\n",
       "        text-align: right;\n",
       "    }\n",
       "</style>\n",
       "<table border=\"1\" class=\"dataframe\">\n",
       "  <thead>\n",
       "    <tr style=\"text-align: right;\">\n",
       "      <th></th>\n",
       "      <th>textID</th>\n",
       "      <th>text</th>\n",
       "      <th>sentiment</th>\n",
       "      <th>selected_text</th>\n",
       "    </tr>\n",
       "  </thead>\n",
       "  <tbody>\n",
       "    <tr>\n",
       "      <th>0</th>\n",
       "      <td>f87dea47db</td>\n",
       "      <td>Last session of the day  http://twitpic.com/67ezh</td>\n",
       "      <td>neutral</td>\n",
       "      <td>Last session of the day  http://twitpic.com/67ezh</td>\n",
       "    </tr>\n",
       "    <tr>\n",
       "      <th>1</th>\n",
       "      <td>96d74cb729</td>\n",
       "      <td>Shanghai is also really exciting (precisely -...</td>\n",
       "      <td>positive</td>\n",
       "      <td>exciting</td>\n",
       "    </tr>\n",
       "    <tr>\n",
       "      <th>2</th>\n",
       "      <td>eee518ae67</td>\n",
       "      <td>Recession hit Veronique Branquinho, she has to...</td>\n",
       "      <td>negative</td>\n",
       "      <td>Recession</td>\n",
       "    </tr>\n",
       "    <tr>\n",
       "      <th>3</th>\n",
       "      <td>01082688c6</td>\n",
       "      <td>happy bday!</td>\n",
       "      <td>positive</td>\n",
       "      <td>happy bday!</td>\n",
       "    </tr>\n",
       "    <tr>\n",
       "      <th>4</th>\n",
       "      <td>33987a8ee5</td>\n",
       "      <td>http://twitpic.com/4w75p - I like it!!</td>\n",
       "      <td>positive</td>\n",
       "      <td>like</td>\n",
       "    </tr>\n",
       "    <tr>\n",
       "      <th>5</th>\n",
       "      <td>726e501993</td>\n",
       "      <td>that`s great!! weee!! visitors!</td>\n",
       "      <td>positive</td>\n",
       "      <td>that`s great!!</td>\n",
       "    </tr>\n",
       "    <tr>\n",
       "      <th>6</th>\n",
       "      <td>261932614e</td>\n",
       "      <td>I THINK EVERYONE HATES ME ON HERE   lol</td>\n",
       "      <td>negative</td>\n",
       "      <td>I THINK EVERYONE HATES ME ON HERE   lol</td>\n",
       "    </tr>\n",
       "    <tr>\n",
       "      <th>7</th>\n",
       "      <td>afa11da83f</td>\n",
       "      <td>soooooo wish i could, but im in school and my...</td>\n",
       "      <td>negative</td>\n",
       "      <td>completely blocked</td>\n",
       "    </tr>\n",
       "    <tr>\n",
       "      <th>8</th>\n",
       "      <td>e64208b4ef</td>\n",
       "      <td>and within a short time of the last clue all ...</td>\n",
       "      <td>neutral</td>\n",
       "      <td>and within a short time of the last clue all ...</td>\n",
       "    </tr>\n",
       "    <tr>\n",
       "      <th>9</th>\n",
       "      <td>37bcad24ca</td>\n",
       "      <td>What did you get?  My day is alright.. haven`...</td>\n",
       "      <td>neutral</td>\n",
       "      <td>What did you get?  My day is alright.. haven`...</td>\n",
       "    </tr>\n",
       "  </tbody>\n",
       "</table>\n",
       "</div>"
      ],
      "text/plain": [
       "       textID                                               text sentiment  \\\n",
       "0  f87dea47db  Last session of the day  http://twitpic.com/67ezh   neutral   \n",
       "1  96d74cb729   Shanghai is also really exciting (precisely -...  positive   \n",
       "2  eee518ae67  Recession hit Veronique Branquinho, she has to...  negative   \n",
       "3  01082688c6                                        happy bday!  positive   \n",
       "4  33987a8ee5             http://twitpic.com/4w75p - I like it!!  positive   \n",
       "5  726e501993                    that`s great!! weee!! visitors!  positive   \n",
       "6  261932614e            I THINK EVERYONE HATES ME ON HERE   lol  negative   \n",
       "7  afa11da83f   soooooo wish i could, but im in school and my...  negative   \n",
       "8  e64208b4ef   and within a short time of the last clue all ...   neutral   \n",
       "9  37bcad24ca   What did you get?  My day is alright.. haven`...   neutral   \n",
       "\n",
       "                                       selected_text  \n",
       "0  Last session of the day  http://twitpic.com/67ezh  \n",
       "1                                           exciting  \n",
       "2                                          Recession  \n",
       "3                                        happy bday!  \n",
       "4                                               like  \n",
       "5                                     that`s great!!  \n",
       "6            I THINK EVERYONE HATES ME ON HERE   lol  \n",
       "7                                 completely blocked  \n",
       "8   and within a short time of the last clue all ...  \n",
       "9   What did you get?  My day is alright.. haven`...  "
      ]
     },
     "execution_count": 42,
     "metadata": {},
     "output_type": "execute_result"
    }
   ],
   "source": [
    "test_df.head(10)"
   ]
  }
 ],
 "metadata": {
  "kernelspec": {
   "display_name": "Python 3",
   "language": "python",
   "name": "python3"
  },
  "language_info": {
   "codemirror_mode": {
    "name": "ipython",
    "version": 3
   },
   "file_extension": ".py",
   "mimetype": "text/x-python",
   "name": "python",
   "nbconvert_exporter": "python",
   "pygments_lexer": "ipython3",
   "version": "3.7.6"
  }
 },
 "nbformat": 4,
 "nbformat_minor": 4
}
